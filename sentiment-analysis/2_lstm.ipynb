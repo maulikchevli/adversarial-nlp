{
  "nbformat": 4,
  "nbformat_minor": 0,
  "metadata": {
    "colab": {
      "name": "2_lstm.ipynb",
      "provenance": []
    },
    "kernelspec": {
      "name": "python3",
      "display_name": "Python 3"
    },
    "accelerator": "GPU"
  },
  "cells": [
    {
      "cell_type": "code",
      "metadata": {
        "id": "0QMwzaCKCsMk",
        "colab_type": "code",
        "colab": {}
      },
      "source": [
        "# tutorial: https://github.com/bentrevett/pytorch-sentiment-analysis\n",
        "import torch\n",
        "from torchtext import data\n",
        "from torchtext import datasets\n",
        "\n",
        "SEED = 1234\n",
        "torch.manual_seed(SEED)\n",
        "torch.backends.cudnn.deterministic = True\n",
        "\n",
        "# Include length for packed padded sequence\n",
        "text = data.Field(tokenize='spacy', include_lengths=True)\n",
        "label = data.LabelField(dtype=torch.float)"
      ],
      "execution_count": 0,
      "outputs": []
    },
    {
      "cell_type": "code",
      "metadata": {
        "id": "-IfOxn0yDzUI",
        "colab_type": "code",
        "colab": {
          "base_uri": "https://localhost:8080/",
          "height": 52
        },
        "outputId": "637313c8-7b6e-4555-f7d4-7a6cec2bcbf0"
      },
      "source": [
        "train_data, test_data = datasets.IMDB.splits(text, label)\n",
        "\n",
        "import random\n",
        "train_data, val_data = train_data.split(random_state=random.seed(SEED))"
      ],
      "execution_count": 2,
      "outputs": [
        {
          "output_type": "stream",
          "text": [
            "downloading aclImdb_v1.tar.gz\n"
          ],
          "name": "stdout"
        },
        {
          "output_type": "stream",
          "text": [
            "aclImdb_v1.tar.gz: 100%|██████████| 84.1M/84.1M [00:07<00:00, 11.3MB/s]\n"
          ],
          "name": "stderr"
        }
      ]
    },
    {
      "cell_type": "code",
      "metadata": {
        "id": "xTjud7lSGOOM",
        "colab_type": "code",
        "colab": {
          "base_uri": "https://localhost:8080/",
          "height": 52
        },
        "outputId": "247db092-ab5d-4b39-936d-07bc4d923ea5"
      },
      "source": [
        "# Use pretrained Embeddings\n",
        "VOCAB_SIZE = 25000\n",
        "\n",
        "# Vocab is lookup table for every word\n",
        "text.build_vocab(train_data,\n",
        "                 max_size = VOCAB_SIZE,\n",
        "                 vectors = 'glove.6B.100d',\n",
        "                 unk_init = torch.Tensor.normal_)\n",
        "label.build_vocab(train_data)"
      ],
      "execution_count": 3,
      "outputs": [
        {
          "output_type": "stream",
          "text": [
            ".vector_cache/glove.6B.zip: 862MB [06:31, 2.20MB/s]                           \n",
            "100%|█████████▉| 399101/400000 [00:24<00:00, 16576.24it/s]"
          ],
          "name": "stderr"
        }
      ]
    },
    {
      "cell_type": "code",
      "metadata": {
        "id": "I9ETu3_NMh-0",
        "colab_type": "code",
        "colab": {}
      },
      "source": [
        "batch_size = 64\n",
        "\n",
        "device = torch.device(\n",
        "            'cuda' if torch.cuda.is_available()\n",
        "            else 'cpu')\n",
        "\n",
        "train_iterator, \\\n",
        "val_iterator, \\\n",
        "test_iterator = data.BucketIterator.splits(\n",
        "                    (train_data, val_data, test_data),\n",
        "                    batch_size = batch_size,\n",
        "                    sort_within_batch = True,\n",
        "                    device = device)"
      ],
      "execution_count": 0,
      "outputs": []
    },
    {
      "cell_type": "markdown",
      "metadata": {
        "id": "tyBjDK7AOWUI",
        "colab_type": "text"
      },
      "source": [
        "# Build Model"
      ]
    },
    {
      "cell_type": "code",
      "metadata": {
        "id": "7KtrXH7hOXSo",
        "colab_type": "code",
        "colab": {}
      },
      "source": [
        "import torch.nn as nn\n",
        "\n",
        "class RNN(nn.Module):\n",
        "    def __init__(self, vocab_size, embedding_dim, hidden_dim, output_dim,\n",
        "                 num_layers, is_bidirectional, dropout_rate, padding_idx):\n",
        "        super().__init__()\n",
        "\n",
        "        self.embedding = nn.Embedding(vocab_size, embedding_dim,\n",
        "                                      padding_idx = padding_idx)\n",
        "        self.rnn = nn.LSTM(embedding_dim, hidden_dim,\n",
        "                          num_layers = num_layers,\n",
        "                          bidirectional = is_bidirectional,\n",
        "                          dropout = dropout_rate)\n",
        "        self.fc = nn.Linear(hidden_dim * 2, output_dim)\n",
        "        self.dropout = nn.Dropout(dropout_rate)\n",
        "\n",
        "    def forward(self, text, text_lengths):\n",
        "        embedded = self.dropout(self.embedding(text))\n",
        "\n",
        "        # Pack sequence\n",
        "        packed_embedded = nn.utils.rnn.pack_padded_sequence(embedded, text_lengths)\n",
        "        packed_output, (hidden, cell) = self.rnn(packed_embedded)\n",
        "\n",
        "        # Unpack sequence\n",
        "        output, output_lengths = nn.utils.rnn.pad_packed_sequence(packed_output)\n",
        "\n",
        "        hidden = self.dropout(torch.cat((hidden[-2, :, :], hidden[-1, :, :]), dim=1))\n",
        "\n",
        "        return self.fc(hidden)"
      ],
      "execution_count": 0,
      "outputs": []
    },
    {
      "cell_type": "code",
      "metadata": {
        "id": "oX-DU8cQfwpU",
        "colab_type": "code",
        "colab": {}
      },
      "source": [
        "input_dim = len(text.vocab)\n",
        "embedding_dim = 100 # Should be same as dim of pre trained embeddings\n",
        "hidden_dim = 256\n",
        "output_dim = 1\n",
        "num_layers = 2\n",
        "is_bidirectional = True\n",
        "dropout_rate = 0.5\n",
        "pad_idx = text.vocab.stoi[text.pad_token]\n",
        "\n",
        "\n",
        "model = RNN(input_dim, embedding_dim, hidden_dim, output_dim,\n",
        "            num_layers, is_bidirectional, dropout_rate, pad_idx)\n",
        "\n",
        "pretrained_embeddings = text.vocab.vectors\n",
        "model.embedding.weight.data.copy_(pretrained_embeddings)\n",
        "\n",
        "# Zero <unk> and <pad> embeddings which are prior initailized using unk_init\n",
        "unk_idx = text.vocab.stoi[text.unk_token]\n",
        "model.embedding.weight.data[unk_idx] = torch.zeros(embedding_dim)\n",
        "model.embedding.weight.data[pad_idx] = torch.zeros(embedding_dim)"
      ],
      "execution_count": 0,
      "outputs": []
    },
    {
      "cell_type": "code",
      "metadata": {
        "id": "8HbGUFsJkx1k",
        "colab_type": "code",
        "colab": {
          "base_uri": "https://localhost:8080/",
          "height": 139
        },
        "outputId": "6fdad55b-16e5-4536-c98b-5f7d7dcd725e"
      },
      "source": [
        "print(model.embedding.weight.data)"
      ],
      "execution_count": 7,
      "outputs": [
        {
          "output_type": "stream",
          "text": [
            "tensor([[ 0.0000,  0.0000,  0.0000,  ...,  0.0000,  0.0000,  0.0000],\n",
            "        [ 0.0000,  0.0000,  0.0000,  ...,  0.0000,  0.0000,  0.0000],\n",
            "        [-0.0382, -0.2449,  0.7281,  ..., -0.1459,  0.8278,  0.2706],\n",
            "        ...,\n",
            "        [-0.1596,  0.0409, -0.7114,  ...,  0.7691, -0.3105, -0.1981],\n",
            "        [-0.9153,  0.4699, -0.6548,  ..., -0.2684, -0.3351, -0.2960],\n",
            "        [-0.1853, -0.0486, -0.1572,  ..., -0.3927, -0.0297, -0.1951]])\n"
          ],
          "name": "stdout"
        }
      ]
    },
    {
      "cell_type": "code",
      "metadata": {
        "id": "rA0kJC-JgavE",
        "colab_type": "code",
        "colab": {
          "base_uri": "https://localhost:8080/",
          "height": 34
        },
        "outputId": "0ceed652-8030-4e48-e425-e6cddcc86716"
      },
      "source": [
        "sum(p.numel() for p in model.parameters() if p.requires_grad)"
      ],
      "execution_count": 8,
      "outputs": [
        {
          "output_type": "execute_result",
          "data": {
            "text/plain": [
              "4810857"
            ]
          },
          "metadata": {
            "tags": []
          },
          "execution_count": 8
        }
      ]
    },
    {
      "cell_type": "code",
      "metadata": {
        "id": "rwusZiWegiR4",
        "colab_type": "code",
        "colab": {
          "base_uri": "https://localhost:8080/",
          "height": 121
        },
        "outputId": "7acb478b-8bc8-4eb8-d996-4de5e1e849ab"
      },
      "source": [
        "print(model)"
      ],
      "execution_count": 9,
      "outputs": [
        {
          "output_type": "stream",
          "text": [
            "RNN(\n",
            "  (embedding): Embedding(25002, 100, padding_idx=1)\n",
            "  (rnn): LSTM(100, 256, num_layers=2, dropout=0.5, bidirectional=True)\n",
            "  (fc): Linear(in_features=512, out_features=1, bias=True)\n",
            "  (dropout): Dropout(p=0.5, inplace=False)\n",
            ")\n"
          ],
          "name": "stdout"
        }
      ]
    },
    {
      "cell_type": "markdown",
      "metadata": {
        "id": "uPp3vXzVk52E",
        "colab_type": "text"
      },
      "source": [
        "# Define Train and Eval functions"
      ]
    },
    {
      "cell_type": "code",
      "metadata": {
        "id": "3nSWHRDsjCp8",
        "colab_type": "code",
        "colab": {
          "base_uri": "https://localhost:8080/",
          "height": 34
        },
        "outputId": "5e116710-9039-4da2-87d7-4e9f965cb244"
      },
      "source": [
        "import torch.optim as optim\n",
        "optimizer = optim.Adam(model.parameters())\n",
        "\n",
        "criterion = nn.BCEWithLogitsLoss()\n",
        "\n",
        "model.to(device)\n",
        "criterion.to(device)"
      ],
      "execution_count": 10,
      "outputs": [
        {
          "output_type": "execute_result",
          "data": {
            "text/plain": [
              "BCEWithLogitsLoss()"
            ]
          },
          "metadata": {
            "tags": []
          },
          "execution_count": 10
        }
      ]
    },
    {
      "cell_type": "code",
      "metadata": {
        "id": "tfRfePKMlQy0",
        "colab_type": "code",
        "colab": {}
      },
      "source": [
        "def accuracy(y_pred, y_orig):\n",
        "    y_pred = torch.round(torch.sigmoid(y_pred))\n",
        "    correct = (y_pred == y_orig).float()\n",
        "    accuracy = correct.sum() / len(correct)\n",
        "\n",
        "    return accuracy"
      ],
      "execution_count": 0,
      "outputs": []
    },
    {
      "cell_type": "code",
      "metadata": {
        "id": "vnwiBNT4lmFU",
        "colab_type": "code",
        "colab": {}
      },
      "source": [
        "def train(model, iterator, optimizer, criterion):\n",
        "    epoch_loss = 0\n",
        "    epoch_acc = 0\n",
        "\n",
        "    model.train()\n",
        "    for data in iterator:\n",
        "        optimizer.zero_grad()\n",
        "\n",
        "        text, text_lengths = data.text\n",
        "        \n",
        "        y_pred = model(text, text_lengths).squeeze(1)\n",
        "        loss = criterion(y_pred, data.label)\n",
        "        acc = accuracy(y_pred, data.label)\n",
        "\n",
        "        loss.backward()\n",
        "        optimizer.step()\n",
        "\n",
        "        epoch_loss += loss.item()\n",
        "        epoch_acc += acc.item()\n",
        "    \n",
        "    return epoch_loss/len(iterator), epoch_acc/len(iterator)"
      ],
      "execution_count": 0,
      "outputs": []
    },
    {
      "cell_type": "code",
      "metadata": {
        "id": "HTFXnz3wmqS8",
        "colab_type": "code",
        "colab": {}
      },
      "source": [
        "def evaluate(model, iterator, criterion):\n",
        "    epoch_loss = 0\n",
        "    epoch_acc = 0\n",
        "\n",
        "    model.eval()\n",
        "    with torch.no_grad():\n",
        "        for data in iterator:\n",
        "            text, text_lengths = data.text\n",
        "\n",
        "            y_pred = model(text, text_lengths).squeeze(1)\n",
        "            loss = criterion(y_pred, data.label)\n",
        "            acc = accuracy(y_pred, data.label)\n",
        "\n",
        "            epoch_loss += loss.item()\n",
        "            epoch_acc += acc.item()\n",
        "\n",
        "    return epoch_loss/len(iterator), epoch_acc/len(iterator)"
      ],
      "execution_count": 0,
      "outputs": []
    },
    {
      "cell_type": "code",
      "metadata": {
        "id": "t9sWheGBnawg",
        "colab_type": "code",
        "colab": {}
      },
      "source": [
        "import time\n",
        "def epoch_time(s, e):\n",
        "    diff = e - s\n",
        "    diff_min = int(diff / 60)\n",
        "    diff_sec = int(diff - (diff_min * 60))\n",
        "\n",
        "    return diff_min, diff_sec"
      ],
      "execution_count": 0,
      "outputs": []
    },
    {
      "cell_type": "markdown",
      "metadata": {
        "id": "1spZX3zZnvN4",
        "colab_type": "text"
      },
      "source": [
        "# Train model"
      ]
    },
    {
      "cell_type": "code",
      "metadata": {
        "id": "qP42BM1ant2Y",
        "colab_type": "code",
        "colab": {
          "base_uri": "https://localhost:8080/",
          "height": 278
        },
        "outputId": "55e1d2e6-f8a0-47d3-88cb-cb539ab4b787"
      },
      "source": [
        "epochs = 5\n",
        "best_val_loss = float('inf')\n",
        "\n",
        "for epoch in range(epochs):\n",
        "    start_time = time.time()\n",
        "\n",
        "    train_loss, train_acc = train(model, train_iterator, optimizer, criterion)\n",
        "    val_loss, val_acc = evaluate(model, val_iterator, criterion)\n",
        "\n",
        "    end_time = time.time()\n",
        "    epoch_min, epoch_sec = epoch_time(start_time, end_time)\n",
        "\n",
        "    if val_loss < best_val_loss:\n",
        "        best_val_loss = val_loss\n",
        "        torch.save(model.state_dict(), 'senti-lstm.pt')\n",
        "\n",
        "    print(f'Epoch: {epoch+1:02} | Epoch Time: {epoch_min}m {epoch_sec}s')\n",
        "    print(f'\\tTrain Loss: {train_loss:.3f} | Train Acc: {train_acc*100:.2f}%')\n",
        "    print(f'\\t Val. Loss: {val_loss:.3f} |  Val. Acc: {val_acc*100:.2f}%')"
      ],
      "execution_count": 15,
      "outputs": [
        {
          "output_type": "stream",
          "text": [
            "Epoch: 01 | Epoch Time: 1m 37s\n",
            "\tTrain Loss: 0.682 | Train Acc: 55.73%\n",
            "\t Val. Loss: 0.691 |  Val. Acc: 52.84%\n",
            "Epoch: 02 | Epoch Time: 1m 36s\n",
            "\tTrain Loss: 0.647 | Train Acc: 61.92%\n",
            "\t Val. Loss: 0.564 |  Val. Acc: 71.23%\n",
            "Epoch: 03 | Epoch Time: 1m 37s\n",
            "\tTrain Loss: 0.515 | Train Acc: 75.69%\n",
            "\t Val. Loss: 0.396 |  Val. Acc: 82.66%\n",
            "Epoch: 04 | Epoch Time: 1m 37s\n",
            "\tTrain Loss: 0.389 | Train Acc: 82.96%\n",
            "\t Val. Loss: 0.434 |  Val. Acc: 81.27%\n",
            "Epoch: 05 | Epoch Time: 1m 37s\n",
            "\tTrain Loss: 0.365 | Train Acc: 84.63%\n",
            "\t Val. Loss: 0.339 |  Val. Acc: 85.32%\n"
          ],
          "name": "stdout"
        }
      ]
    },
    {
      "cell_type": "markdown",
      "metadata": {
        "id": "y4W6DD_9raqo",
        "colab_type": "text"
      },
      "source": [
        "# Test Model"
      ]
    },
    {
      "cell_type": "code",
      "metadata": {
        "id": "LxznO9Sko-wg",
        "colab_type": "code",
        "colab": {
          "base_uri": "https://localhost:8080/",
          "height": 34
        },
        "outputId": "2cf7de6b-85fa-4a68-e6bc-e8ebc8797263"
      },
      "source": [
        "model.load_state_dict(torch.load('senti-lstm.pt'))\n",
        "\n",
        "test_loss, test_acc = evaluate(model, test_iterator, criterion)\n",
        "print(f'Test Loss: {test_loss:.3f} | Test Acc: {test_acc*100:.2f}%')"
      ],
      "execution_count": 16,
      "outputs": [
        {
          "output_type": "stream",
          "text": [
            "Test Loss: 0.363 | Test Acc: 83.77%\n"
          ],
          "name": "stdout"
        }
      ]
    },
    {
      "cell_type": "markdown",
      "metadata": {
        "id": "KKcMXmWVrcNE",
        "colab_type": "text"
      },
      "source": [
        "# Run model on user input"
      ]
    },
    {
      "cell_type": "code",
      "metadata": {
        "id": "1sn-NooKr-XA",
        "colab_type": "code",
        "colab": {
          "base_uri": "https://localhost:8080/",
          "height": 278
        },
        "outputId": "adf140ac-eaa3-4b86-9d01-9d1dac7106bc"
      },
      "source": [
        "import spacy \n",
        "nlp = spacy.load('en')\n",
        "\n",
        "sentence = \"Hello there. How do you do?\"\n",
        "tokenized = [tok.text for tok in nlp.tokenizer(sentence)]\n",
        "indexed = [text.vocab.stoi[t] for t in tokenized]\n",
        "length = [len(indexed)]\n",
        "\n",
        "print(tokenized)\n",
        "print(indexed)\n",
        "print(length)\n",
        "\n",
        "tensor = torch.LongTensor(indexed).to(device)\n",
        "print(tensor.shape)\n",
        "tensor = tensor.unsqueeze(1)\n",
        "print(tensor.shape)\n",
        "length_tensor = torch.LongTensor(length)\n",
        "\n",
        "print(tensor)\n",
        "print(length_tensor)\n",
        "\n",
        "y_pred = torch.sigmoid(model(tensor, length_tensor))\n",
        "print(y_pred, y_pred.item())"
      ],
      "execution_count": 17,
      "outputs": [
        {
          "output_type": "stream",
          "text": [
            "['Hello', 'there', '.', 'How', 'do', 'you', 'do', '?']\n",
            "[7609, 67, 4, 572, 57, 31, 57, 58]\n",
            "[8]\n",
            "torch.Size([8])\n",
            "torch.Size([8, 1])\n",
            "tensor([[7609],\n",
            "        [  67],\n",
            "        [   4],\n",
            "        [ 572],\n",
            "        [  57],\n",
            "        [  31],\n",
            "        [  57],\n",
            "        [  58]], device='cuda:0')\n",
            "tensor([8])\n",
            "tensor([[0.0558]], device='cuda:0', grad_fn=<SigmoidBackward>) 0.055780038237571716\n"
          ],
          "name": "stdout"
        }
      ]
    },
    {
      "cell_type": "code",
      "metadata": {
        "id": "j_s-z0rUrZGo",
        "colab_type": "code",
        "colab": {}
      },
      "source": [
        "import spacy\n",
        "nlp = spacy.load('en')\n",
        "\n",
        "def predict_senti(model, sentence):\n",
        "    model.eval()\n",
        "\n",
        "    tokenized = [token.text for token in nlp.tokenizer(sentence)]\n",
        "    indexed = [text.vocab.stoi[t] for t in tokenized]\n",
        "    length = [len(indexed)]\n",
        "\n",
        "    tensor = torch.LongTensor(indexed).to(device)\n",
        "    tensor = tensor.unsqueeze(1)\n",
        "    length_tensor = torch.LongTensor(length)\n",
        "\n",
        "    y_pred = torch.sigmoid(model(tensor, length_tensor))\n",
        "\n",
        "    return y_pred.item()"
      ],
      "execution_count": 0,
      "outputs": []
    },
    {
      "cell_type": "code",
      "metadata": {
        "id": "Dtf9bn4EuUmo",
        "colab_type": "code",
        "colab": {
          "base_uri": "https://localhost:8080/",
          "height": 121
        },
        "outputId": "e60c7190-c117-488f-9e6c-0f0169c835a1"
      },
      "source": [
        "sentences = [\n",
        "    'This movies is alright',\n",
        "    'Pathetic hero. Anyways, the movie is good',\n",
        "    'Wasted my money on this film',\n",
        "    'The movie is not good, its amazing',\n",
        "    'The movie is not good',\n",
        "    'The movie is bad',\n",
        "]\n",
        "\n",
        "for sentence in sentences:\n",
        "    print(sentence, predict_senti(model, sentence))"
      ],
      "execution_count": 20,
      "outputs": [
        {
          "output_type": "stream",
          "text": [
            "This movies is alright 0.02195347659289837\n",
            "Pathetic hero. Anyways, the movie is good 0.9661369919776917\n",
            "Wasted my money on this film 0.04008140787482262\n",
            "The movie is not good, its amazing 0.9844872355461121\n",
            "The movie is not good 0.33917102217674255\n",
            "The movie is bad 0.015250181779265404\n"
          ],
          "name": "stdout"
        }
      ]
    }
  ]
}