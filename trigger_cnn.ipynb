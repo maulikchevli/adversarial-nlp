{
  "nbformat": 4,
  "nbformat_minor": 0,
  "metadata": {
    "colab": {
      "name": "trigger_cnn",
      "provenance": [],
      "collapsed_sections": []
    },
    "kernelspec": {
      "name": "python3",
      "display_name": "Python 3"
    },
    "accelerator": "GPU",
    "widgets": {
      "application/vnd.jupyter.widget-state+json": {
        "b6c9df0494c1414c89562e47db277a7f": {
          "model_module": "@jupyter-widgets/controls",
          "model_name": "HBoxModel",
          "state": {
            "_view_name": "HBoxView",
            "_dom_classes": [],
            "_model_name": "HBoxModel",
            "_view_module": "@jupyter-widgets/controls",
            "_model_module_version": "1.5.0",
            "_view_count": null,
            "_view_module_version": "1.5.0",
            "box_style": "",
            "layout": "IPY_MODEL_a4d7436e7e1a43559d59727e48f304dc",
            "_model_module": "@jupyter-widgets/controls",
            "children": [
              "IPY_MODEL_da61259dcca4451ca3f8223e58858ab0",
              "IPY_MODEL_50efec63b5324ebcaf38dd9a3a9b124c"
            ]
          }
        },
        "a4d7436e7e1a43559d59727e48f304dc": {
          "model_module": "@jupyter-widgets/base",
          "model_name": "LayoutModel",
          "state": {
            "_view_name": "LayoutView",
            "grid_template_rows": null,
            "right": null,
            "justify_content": null,
            "_view_module": "@jupyter-widgets/base",
            "overflow": null,
            "_model_module_version": "1.2.0",
            "_view_count": null,
            "flex_flow": null,
            "width": null,
            "min_width": null,
            "border": null,
            "align_items": null,
            "bottom": null,
            "_model_module": "@jupyter-widgets/base",
            "top": null,
            "grid_column": null,
            "overflow_y": null,
            "overflow_x": null,
            "grid_auto_flow": null,
            "grid_area": null,
            "grid_template_columns": null,
            "flex": null,
            "_model_name": "LayoutModel",
            "justify_items": null,
            "grid_row": null,
            "max_height": null,
            "align_content": null,
            "visibility": null,
            "align_self": null,
            "height": null,
            "min_height": null,
            "padding": null,
            "grid_auto_rows": null,
            "grid_gap": null,
            "max_width": null,
            "order": null,
            "_view_module_version": "1.2.0",
            "grid_template_areas": null,
            "object_position": null,
            "object_fit": null,
            "grid_auto_columns": null,
            "margin": null,
            "display": null,
            "left": null
          }
        },
        "da61259dcca4451ca3f8223e58858ab0": {
          "model_module": "@jupyter-widgets/controls",
          "model_name": "FloatProgressModel",
          "state": {
            "_view_name": "ProgressView",
            "style": "IPY_MODEL_7710039eb24349b89765e7a9f0e5adb6",
            "_dom_classes": [],
            "description": "100%",
            "_model_name": "FloatProgressModel",
            "bar_style": "",
            "max": 392,
            "_view_module": "@jupyter-widgets/controls",
            "_model_module_version": "1.5.0",
            "value": 392,
            "_view_count": null,
            "_view_module_version": "1.5.0",
            "orientation": "horizontal",
            "min": 0,
            "description_tooltip": null,
            "_model_module": "@jupyter-widgets/controls",
            "layout": "IPY_MODEL_2c691ff38a844d0abb01c193e7778050"
          }
        },
        "50efec63b5324ebcaf38dd9a3a9b124c": {
          "model_module": "@jupyter-widgets/controls",
          "model_name": "HTMLModel",
          "state": {
            "_view_name": "HTMLView",
            "style": "IPY_MODEL_358fb85ae9e04782892de3873a8a59dd",
            "_dom_classes": [],
            "description": "",
            "_model_name": "HTMLModel",
            "placeholder": "​",
            "_view_module": "@jupyter-widgets/controls",
            "_model_module_version": "1.5.0",
            "value": " 392/392 [00:40&lt;00:00, 41.16it/s, e: 0/4 =&gt; (T/V) Loss: 0.500 | 0.332, Acc: 74.548 | 86.004\n]",
            "_view_count": null,
            "_view_module_version": "1.5.0",
            "description_tooltip": null,
            "_model_module": "@jupyter-widgets/controls",
            "layout": "IPY_MODEL_4550e60f0ab3438fbbb47a9735225c84"
          }
        },
        "7710039eb24349b89765e7a9f0e5adb6": {
          "model_module": "@jupyter-widgets/controls",
          "model_name": "ProgressStyleModel",
          "state": {
            "_view_name": "StyleView",
            "_model_name": "ProgressStyleModel",
            "description_width": "initial",
            "_view_module": "@jupyter-widgets/base",
            "_model_module_version": "1.5.0",
            "_view_count": null,
            "_view_module_version": "1.2.0",
            "bar_color": null,
            "_model_module": "@jupyter-widgets/controls"
          }
        },
        "2c691ff38a844d0abb01c193e7778050": {
          "model_module": "@jupyter-widgets/base",
          "model_name": "LayoutModel",
          "state": {
            "_view_name": "LayoutView",
            "grid_template_rows": null,
            "right": null,
            "justify_content": null,
            "_view_module": "@jupyter-widgets/base",
            "overflow": null,
            "_model_module_version": "1.2.0",
            "_view_count": null,
            "flex_flow": null,
            "width": null,
            "min_width": null,
            "border": null,
            "align_items": null,
            "bottom": null,
            "_model_module": "@jupyter-widgets/base",
            "top": null,
            "grid_column": null,
            "overflow_y": null,
            "overflow_x": null,
            "grid_auto_flow": null,
            "grid_area": null,
            "grid_template_columns": null,
            "flex": null,
            "_model_name": "LayoutModel",
            "justify_items": null,
            "grid_row": null,
            "max_height": null,
            "align_content": null,
            "visibility": null,
            "align_self": null,
            "height": null,
            "min_height": null,
            "padding": null,
            "grid_auto_rows": null,
            "grid_gap": null,
            "max_width": null,
            "order": null,
            "_view_module_version": "1.2.0",
            "grid_template_areas": null,
            "object_position": null,
            "object_fit": null,
            "grid_auto_columns": null,
            "margin": null,
            "display": null,
            "left": null
          }
        },
        "358fb85ae9e04782892de3873a8a59dd": {
          "model_module": "@jupyter-widgets/controls",
          "model_name": "DescriptionStyleModel",
          "state": {
            "_view_name": "StyleView",
            "_model_name": "DescriptionStyleModel",
            "description_width": "",
            "_view_module": "@jupyter-widgets/base",
            "_model_module_version": "1.5.0",
            "_view_count": null,
            "_view_module_version": "1.2.0",
            "_model_module": "@jupyter-widgets/controls"
          }
        },
        "4550e60f0ab3438fbbb47a9735225c84": {
          "model_module": "@jupyter-widgets/base",
          "model_name": "LayoutModel",
          "state": {
            "_view_name": "LayoutView",
            "grid_template_rows": null,
            "right": null,
            "justify_content": null,
            "_view_module": "@jupyter-widgets/base",
            "overflow": null,
            "_model_module_version": "1.2.0",
            "_view_count": null,
            "flex_flow": null,
            "width": null,
            "min_width": null,
            "border": null,
            "align_items": null,
            "bottom": null,
            "_model_module": "@jupyter-widgets/base",
            "top": null,
            "grid_column": null,
            "overflow_y": null,
            "overflow_x": null,
            "grid_auto_flow": null,
            "grid_area": null,
            "grid_template_columns": null,
            "flex": null,
            "_model_name": "LayoutModel",
            "justify_items": null,
            "grid_row": null,
            "max_height": null,
            "align_content": null,
            "visibility": null,
            "align_self": null,
            "height": null,
            "min_height": null,
            "padding": null,
            "grid_auto_rows": null,
            "grid_gap": null,
            "max_width": null,
            "order": null,
            "_view_module_version": "1.2.0",
            "grid_template_areas": null,
            "object_position": null,
            "object_fit": null,
            "grid_auto_columns": null,
            "margin": null,
            "display": null,
            "left": null
          }
        },
        "9e3a8ce3f90749fd905f03d795e94712": {
          "model_module": "@jupyter-widgets/controls",
          "model_name": "HBoxModel",
          "state": {
            "_view_name": "HBoxView",
            "_dom_classes": [],
            "_model_name": "HBoxModel",
            "_view_module": "@jupyter-widgets/controls",
            "_model_module_version": "1.5.0",
            "_view_count": null,
            "_view_module_version": "1.5.0",
            "box_style": "",
            "layout": "IPY_MODEL_2bdefc991f1a49a8871d9e6f2e16fa1e",
            "_model_module": "@jupyter-widgets/controls",
            "children": [
              "IPY_MODEL_2deebf1ddc174d94a7a72a05ba770602",
              "IPY_MODEL_ed72b72d720e47baa3b83cd71b92b723"
            ]
          }
        },
        "2bdefc991f1a49a8871d9e6f2e16fa1e": {
          "model_module": "@jupyter-widgets/base",
          "model_name": "LayoutModel",
          "state": {
            "_view_name": "LayoutView",
            "grid_template_rows": null,
            "right": null,
            "justify_content": null,
            "_view_module": "@jupyter-widgets/base",
            "overflow": null,
            "_model_module_version": "1.2.0",
            "_view_count": null,
            "flex_flow": null,
            "width": null,
            "min_width": null,
            "border": null,
            "align_items": null,
            "bottom": null,
            "_model_module": "@jupyter-widgets/base",
            "top": null,
            "grid_column": null,
            "overflow_y": null,
            "overflow_x": null,
            "grid_auto_flow": null,
            "grid_area": null,
            "grid_template_columns": null,
            "flex": null,
            "_model_name": "LayoutModel",
            "justify_items": null,
            "grid_row": null,
            "max_height": null,
            "align_content": null,
            "visibility": null,
            "align_self": null,
            "height": null,
            "min_height": null,
            "padding": null,
            "grid_auto_rows": null,
            "grid_gap": null,
            "max_width": null,
            "order": null,
            "_view_module_version": "1.2.0",
            "grid_template_areas": null,
            "object_position": null,
            "object_fit": null,
            "grid_auto_columns": null,
            "margin": null,
            "display": null,
            "left": null
          }
        },
        "2deebf1ddc174d94a7a72a05ba770602": {
          "model_module": "@jupyter-widgets/controls",
          "model_name": "FloatProgressModel",
          "state": {
            "_view_name": "ProgressView",
            "style": "IPY_MODEL_6d826a37197f4d319c7de883abcb5430",
            "_dom_classes": [],
            "description": "100%",
            "_model_name": "FloatProgressModel",
            "bar_style": "",
            "max": 392,
            "_view_module": "@jupyter-widgets/controls",
            "_model_module_version": "1.5.0",
            "value": 392,
            "_view_count": null,
            "_view_module_version": "1.5.0",
            "orientation": "horizontal",
            "min": 0,
            "description_tooltip": null,
            "_model_module": "@jupyter-widgets/controls",
            "layout": "IPY_MODEL_1e028bfe1e9f4b8d959522861b1a317b"
          }
        },
        "ed72b72d720e47baa3b83cd71b92b723": {
          "model_module": "@jupyter-widgets/controls",
          "model_name": "HTMLModel",
          "state": {
            "_view_name": "HTMLView",
            "style": "IPY_MODEL_b7e1d0392f52431ea06eeb39274e9d31",
            "_dom_classes": [],
            "description": "",
            "_model_name": "HTMLModel",
            "placeholder": "​",
            "_view_module": "@jupyter-widgets/controls",
            "_model_module_version": "1.5.0",
            "value": " 392/392 [00:42&lt;00:00, 41.36it/s, e: 1/4 =&gt; (T/V) Loss: 0.305 | 0.290, Acc: 87.196 | 87.897\n]",
            "_view_count": null,
            "_view_module_version": "1.5.0",
            "description_tooltip": null,
            "_model_module": "@jupyter-widgets/controls",
            "layout": "IPY_MODEL_908527ac3e79465fbe79fd7f4dd040a0"
          }
        },
        "6d826a37197f4d319c7de883abcb5430": {
          "model_module": "@jupyter-widgets/controls",
          "model_name": "ProgressStyleModel",
          "state": {
            "_view_name": "StyleView",
            "_model_name": "ProgressStyleModel",
            "description_width": "initial",
            "_view_module": "@jupyter-widgets/base",
            "_model_module_version": "1.5.0",
            "_view_count": null,
            "_view_module_version": "1.2.0",
            "bar_color": null,
            "_model_module": "@jupyter-widgets/controls"
          }
        },
        "1e028bfe1e9f4b8d959522861b1a317b": {
          "model_module": "@jupyter-widgets/base",
          "model_name": "LayoutModel",
          "state": {
            "_view_name": "LayoutView",
            "grid_template_rows": null,
            "right": null,
            "justify_content": null,
            "_view_module": "@jupyter-widgets/base",
            "overflow": null,
            "_model_module_version": "1.2.0",
            "_view_count": null,
            "flex_flow": null,
            "width": null,
            "min_width": null,
            "border": null,
            "align_items": null,
            "bottom": null,
            "_model_module": "@jupyter-widgets/base",
            "top": null,
            "grid_column": null,
            "overflow_y": null,
            "overflow_x": null,
            "grid_auto_flow": null,
            "grid_area": null,
            "grid_template_columns": null,
            "flex": null,
            "_model_name": "LayoutModel",
            "justify_items": null,
            "grid_row": null,
            "max_height": null,
            "align_content": null,
            "visibility": null,
            "align_self": null,
            "height": null,
            "min_height": null,
            "padding": null,
            "grid_auto_rows": null,
            "grid_gap": null,
            "max_width": null,
            "order": null,
            "_view_module_version": "1.2.0",
            "grid_template_areas": null,
            "object_position": null,
            "object_fit": null,
            "grid_auto_columns": null,
            "margin": null,
            "display": null,
            "left": null
          }
        },
        "b7e1d0392f52431ea06eeb39274e9d31": {
          "model_module": "@jupyter-widgets/controls",
          "model_name": "DescriptionStyleModel",
          "state": {
            "_view_name": "StyleView",
            "_model_name": "DescriptionStyleModel",
            "description_width": "",
            "_view_module": "@jupyter-widgets/base",
            "_model_module_version": "1.5.0",
            "_view_count": null,
            "_view_module_version": "1.2.0",
            "_model_module": "@jupyter-widgets/controls"
          }
        },
        "908527ac3e79465fbe79fd7f4dd040a0": {
          "model_module": "@jupyter-widgets/base",
          "model_name": "LayoutModel",
          "state": {
            "_view_name": "LayoutView",
            "grid_template_rows": null,
            "right": null,
            "justify_content": null,
            "_view_module": "@jupyter-widgets/base",
            "overflow": null,
            "_model_module_version": "1.2.0",
            "_view_count": null,
            "flex_flow": null,
            "width": null,
            "min_width": null,
            "border": null,
            "align_items": null,
            "bottom": null,
            "_model_module": "@jupyter-widgets/base",
            "top": null,
            "grid_column": null,
            "overflow_y": null,
            "overflow_x": null,
            "grid_auto_flow": null,
            "grid_area": null,
            "grid_template_columns": null,
            "flex": null,
            "_model_name": "LayoutModel",
            "justify_items": null,
            "grid_row": null,
            "max_height": null,
            "align_content": null,
            "visibility": null,
            "align_self": null,
            "height": null,
            "min_height": null,
            "padding": null,
            "grid_auto_rows": null,
            "grid_gap": null,
            "max_width": null,
            "order": null,
            "_view_module_version": "1.2.0",
            "grid_template_areas": null,
            "object_position": null,
            "object_fit": null,
            "grid_auto_columns": null,
            "margin": null,
            "display": null,
            "left": null
          }
        },
        "97f878c4439f47878d52370628925143": {
          "model_module": "@jupyter-widgets/controls",
          "model_name": "HBoxModel",
          "state": {
            "_view_name": "HBoxView",
            "_dom_classes": [],
            "_model_name": "HBoxModel",
            "_view_module": "@jupyter-widgets/controls",
            "_model_module_version": "1.5.0",
            "_view_count": null,
            "_view_module_version": "1.5.0",
            "box_style": "",
            "layout": "IPY_MODEL_bbbfdf9d6b9943fb8d5f8ecb08ab1073",
            "_model_module": "@jupyter-widgets/controls",
            "children": [
              "IPY_MODEL_8dfdf6ec546447d5a440802ff5f5f9e0",
              "IPY_MODEL_1ce993f3a79c4648aea44b74230dbb15"
            ]
          }
        },
        "bbbfdf9d6b9943fb8d5f8ecb08ab1073": {
          "model_module": "@jupyter-widgets/base",
          "model_name": "LayoutModel",
          "state": {
            "_view_name": "LayoutView",
            "grid_template_rows": null,
            "right": null,
            "justify_content": null,
            "_view_module": "@jupyter-widgets/base",
            "overflow": null,
            "_model_module_version": "1.2.0",
            "_view_count": null,
            "flex_flow": null,
            "width": null,
            "min_width": null,
            "border": null,
            "align_items": null,
            "bottom": null,
            "_model_module": "@jupyter-widgets/base",
            "top": null,
            "grid_column": null,
            "overflow_y": null,
            "overflow_x": null,
            "grid_auto_flow": null,
            "grid_area": null,
            "grid_template_columns": null,
            "flex": null,
            "_model_name": "LayoutModel",
            "justify_items": null,
            "grid_row": null,
            "max_height": null,
            "align_content": null,
            "visibility": null,
            "align_self": null,
            "height": null,
            "min_height": null,
            "padding": null,
            "grid_auto_rows": null,
            "grid_gap": null,
            "max_width": null,
            "order": null,
            "_view_module_version": "1.2.0",
            "grid_template_areas": null,
            "object_position": null,
            "object_fit": null,
            "grid_auto_columns": null,
            "margin": null,
            "display": null,
            "left": null
          }
        },
        "8dfdf6ec546447d5a440802ff5f5f9e0": {
          "model_module": "@jupyter-widgets/controls",
          "model_name": "FloatProgressModel",
          "state": {
            "_view_name": "ProgressView",
            "style": "IPY_MODEL_5fbf9d73f12d4f6682f1ecefd4868a9c",
            "_dom_classes": [],
            "description": "100%",
            "_model_name": "FloatProgressModel",
            "bar_style": "",
            "max": 392,
            "_view_module": "@jupyter-widgets/controls",
            "_model_module_version": "1.5.0",
            "value": 392,
            "_view_count": null,
            "_view_module_version": "1.5.0",
            "orientation": "horizontal",
            "min": 0,
            "description_tooltip": null,
            "_model_module": "@jupyter-widgets/controls",
            "layout": "IPY_MODEL_bd336eabbb1b4f9d88de6061f0d00e36"
          }
        },
        "1ce993f3a79c4648aea44b74230dbb15": {
          "model_module": "@jupyter-widgets/controls",
          "model_name": "HTMLModel",
          "state": {
            "_view_name": "HTMLView",
            "style": "IPY_MODEL_a3189814d202494fac028359e8a711bf",
            "_dom_classes": [],
            "description": "",
            "_model_name": "HTMLModel",
            "placeholder": "​",
            "_view_module": "@jupyter-widgets/controls",
            "_model_module_version": "1.5.0",
            "value": " 392/392 [00:45&lt;00:00, 42.07it/s, e: 2/4 =&gt; (T/V) Loss: 0.214 | 0.270, Acc: 91.544 | 88.564\n]",
            "_view_count": null,
            "_view_module_version": "1.5.0",
            "description_tooltip": null,
            "_model_module": "@jupyter-widgets/controls",
            "layout": "IPY_MODEL_a0fd3979b57b42c0a40bda6f7b7b4ef8"
          }
        },
        "5fbf9d73f12d4f6682f1ecefd4868a9c": {
          "model_module": "@jupyter-widgets/controls",
          "model_name": "ProgressStyleModel",
          "state": {
            "_view_name": "StyleView",
            "_model_name": "ProgressStyleModel",
            "description_width": "initial",
            "_view_module": "@jupyter-widgets/base",
            "_model_module_version": "1.5.0",
            "_view_count": null,
            "_view_module_version": "1.2.0",
            "bar_color": null,
            "_model_module": "@jupyter-widgets/controls"
          }
        },
        "bd336eabbb1b4f9d88de6061f0d00e36": {
          "model_module": "@jupyter-widgets/base",
          "model_name": "LayoutModel",
          "state": {
            "_view_name": "LayoutView",
            "grid_template_rows": null,
            "right": null,
            "justify_content": null,
            "_view_module": "@jupyter-widgets/base",
            "overflow": null,
            "_model_module_version": "1.2.0",
            "_view_count": null,
            "flex_flow": null,
            "width": null,
            "min_width": null,
            "border": null,
            "align_items": null,
            "bottom": null,
            "_model_module": "@jupyter-widgets/base",
            "top": null,
            "grid_column": null,
            "overflow_y": null,
            "overflow_x": null,
            "grid_auto_flow": null,
            "grid_area": null,
            "grid_template_columns": null,
            "flex": null,
            "_model_name": "LayoutModel",
            "justify_items": null,
            "grid_row": null,
            "max_height": null,
            "align_content": null,
            "visibility": null,
            "align_self": null,
            "height": null,
            "min_height": null,
            "padding": null,
            "grid_auto_rows": null,
            "grid_gap": null,
            "max_width": null,
            "order": null,
            "_view_module_version": "1.2.0",
            "grid_template_areas": null,
            "object_position": null,
            "object_fit": null,
            "grid_auto_columns": null,
            "margin": null,
            "display": null,
            "left": null
          }
        },
        "a3189814d202494fac028359e8a711bf": {
          "model_module": "@jupyter-widgets/controls",
          "model_name": "DescriptionStyleModel",
          "state": {
            "_view_name": "StyleView",
            "_model_name": "DescriptionStyleModel",
            "description_width": "",
            "_view_module": "@jupyter-widgets/base",
            "_model_module_version": "1.5.0",
            "_view_count": null,
            "_view_module_version": "1.2.0",
            "_model_module": "@jupyter-widgets/controls"
          }
        },
        "a0fd3979b57b42c0a40bda6f7b7b4ef8": {
          "model_module": "@jupyter-widgets/base",
          "model_name": "LayoutModel",
          "state": {
            "_view_name": "LayoutView",
            "grid_template_rows": null,
            "right": null,
            "justify_content": null,
            "_view_module": "@jupyter-widgets/base",
            "overflow": null,
            "_model_module_version": "1.2.0",
            "_view_count": null,
            "flex_flow": null,
            "width": null,
            "min_width": null,
            "border": null,
            "align_items": null,
            "bottom": null,
            "_model_module": "@jupyter-widgets/base",
            "top": null,
            "grid_column": null,
            "overflow_y": null,
            "overflow_x": null,
            "grid_auto_flow": null,
            "grid_area": null,
            "grid_template_columns": null,
            "flex": null,
            "_model_name": "LayoutModel",
            "justify_items": null,
            "grid_row": null,
            "max_height": null,
            "align_content": null,
            "visibility": null,
            "align_self": null,
            "height": null,
            "min_height": null,
            "padding": null,
            "grid_auto_rows": null,
            "grid_gap": null,
            "max_width": null,
            "order": null,
            "_view_module_version": "1.2.0",
            "grid_template_areas": null,
            "object_position": null,
            "object_fit": null,
            "grid_auto_columns": null,
            "margin": null,
            "display": null,
            "left": null
          }
        },
        "cf8fdf988bf6425ba3cc212a4c95be10": {
          "model_module": "@jupyter-widgets/controls",
          "model_name": "HBoxModel",
          "state": {
            "_view_name": "HBoxView",
            "_dom_classes": [],
            "_model_name": "HBoxModel",
            "_view_module": "@jupyter-widgets/controls",
            "_model_module_version": "1.5.0",
            "_view_count": null,
            "_view_module_version": "1.5.0",
            "box_style": "",
            "layout": "IPY_MODEL_13e2e6f4cf79456295e4ff33d44fc831",
            "_model_module": "@jupyter-widgets/controls",
            "children": [
              "IPY_MODEL_ad6b88489c324e598459a80269216d54",
              "IPY_MODEL_e8684bb20a7b48b1a8ae6c9e2eec1f2f"
            ]
          }
        },
        "13e2e6f4cf79456295e4ff33d44fc831": {
          "model_module": "@jupyter-widgets/base",
          "model_name": "LayoutModel",
          "state": {
            "_view_name": "LayoutView",
            "grid_template_rows": null,
            "right": null,
            "justify_content": null,
            "_view_module": "@jupyter-widgets/base",
            "overflow": null,
            "_model_module_version": "1.2.0",
            "_view_count": null,
            "flex_flow": null,
            "width": null,
            "min_width": null,
            "border": null,
            "align_items": null,
            "bottom": null,
            "_model_module": "@jupyter-widgets/base",
            "top": null,
            "grid_column": null,
            "overflow_y": null,
            "overflow_x": null,
            "grid_auto_flow": null,
            "grid_area": null,
            "grid_template_columns": null,
            "flex": null,
            "_model_name": "LayoutModel",
            "justify_items": null,
            "grid_row": null,
            "max_height": null,
            "align_content": null,
            "visibility": null,
            "align_self": null,
            "height": null,
            "min_height": null,
            "padding": null,
            "grid_auto_rows": null,
            "grid_gap": null,
            "max_width": null,
            "order": null,
            "_view_module_version": "1.2.0",
            "grid_template_areas": null,
            "object_position": null,
            "object_fit": null,
            "grid_auto_columns": null,
            "margin": null,
            "display": null,
            "left": null
          }
        },
        "ad6b88489c324e598459a80269216d54": {
          "model_module": "@jupyter-widgets/controls",
          "model_name": "FloatProgressModel",
          "state": {
            "_view_name": "ProgressView",
            "style": "IPY_MODEL_5c03b788148f43c98c0078ed499a653f",
            "_dom_classes": [],
            "description": "100%",
            "_model_name": "FloatProgressModel",
            "bar_style": "",
            "max": 392,
            "_view_module": "@jupyter-widgets/controls",
            "_model_module_version": "1.5.0",
            "value": 392,
            "_view_count": null,
            "_view_module_version": "1.5.0",
            "orientation": "horizontal",
            "min": 0,
            "description_tooltip": null,
            "_model_module": "@jupyter-widgets/controls",
            "layout": "IPY_MODEL_c51a69442dde424a8e1842866133416f"
          }
        },
        "e8684bb20a7b48b1a8ae6c9e2eec1f2f": {
          "model_module": "@jupyter-widgets/controls",
          "model_name": "HTMLModel",
          "state": {
            "_view_name": "HTMLView",
            "style": "IPY_MODEL_78cea80396a94b52aa1796be2bbeddcf",
            "_dom_classes": [],
            "description": "",
            "_model_name": "HTMLModel",
            "placeholder": "​",
            "_view_module": "@jupyter-widgets/controls",
            "_model_module_version": "1.5.0",
            "value": " 392/392 [00:38&lt;00:00, 42.70it/s, e: 3/4 =&gt; (T/V) Loss: 0.143 | 0.280, Acc: 94.904 | 88.683\n]",
            "_view_count": null,
            "_view_module_version": "1.5.0",
            "description_tooltip": null,
            "_model_module": "@jupyter-widgets/controls",
            "layout": "IPY_MODEL_0e5787a314fe472b9d53d78a0f481e54"
          }
        },
        "5c03b788148f43c98c0078ed499a653f": {
          "model_module": "@jupyter-widgets/controls",
          "model_name": "ProgressStyleModel",
          "state": {
            "_view_name": "StyleView",
            "_model_name": "ProgressStyleModel",
            "description_width": "initial",
            "_view_module": "@jupyter-widgets/base",
            "_model_module_version": "1.5.0",
            "_view_count": null,
            "_view_module_version": "1.2.0",
            "bar_color": null,
            "_model_module": "@jupyter-widgets/controls"
          }
        },
        "c51a69442dde424a8e1842866133416f": {
          "model_module": "@jupyter-widgets/base",
          "model_name": "LayoutModel",
          "state": {
            "_view_name": "LayoutView",
            "grid_template_rows": null,
            "right": null,
            "justify_content": null,
            "_view_module": "@jupyter-widgets/base",
            "overflow": null,
            "_model_module_version": "1.2.0",
            "_view_count": null,
            "flex_flow": null,
            "width": null,
            "min_width": null,
            "border": null,
            "align_items": null,
            "bottom": null,
            "_model_module": "@jupyter-widgets/base",
            "top": null,
            "grid_column": null,
            "overflow_y": null,
            "overflow_x": null,
            "grid_auto_flow": null,
            "grid_area": null,
            "grid_template_columns": null,
            "flex": null,
            "_model_name": "LayoutModel",
            "justify_items": null,
            "grid_row": null,
            "max_height": null,
            "align_content": null,
            "visibility": null,
            "align_self": null,
            "height": null,
            "min_height": null,
            "padding": null,
            "grid_auto_rows": null,
            "grid_gap": null,
            "max_width": null,
            "order": null,
            "_view_module_version": "1.2.0",
            "grid_template_areas": null,
            "object_position": null,
            "object_fit": null,
            "grid_auto_columns": null,
            "margin": null,
            "display": null,
            "left": null
          }
        },
        "78cea80396a94b52aa1796be2bbeddcf": {
          "model_module": "@jupyter-widgets/controls",
          "model_name": "DescriptionStyleModel",
          "state": {
            "_view_name": "StyleView",
            "_model_name": "DescriptionStyleModel",
            "description_width": "",
            "_view_module": "@jupyter-widgets/base",
            "_model_module_version": "1.5.0",
            "_view_count": null,
            "_view_module_version": "1.2.0",
            "_model_module": "@jupyter-widgets/controls"
          }
        },
        "0e5787a314fe472b9d53d78a0f481e54": {
          "model_module": "@jupyter-widgets/base",
          "model_name": "LayoutModel",
          "state": {
            "_view_name": "LayoutView",
            "grid_template_rows": null,
            "right": null,
            "justify_content": null,
            "_view_module": "@jupyter-widgets/base",
            "overflow": null,
            "_model_module_version": "1.2.0",
            "_view_count": null,
            "flex_flow": null,
            "width": null,
            "min_width": null,
            "border": null,
            "align_items": null,
            "bottom": null,
            "_model_module": "@jupyter-widgets/base",
            "top": null,
            "grid_column": null,
            "overflow_y": null,
            "overflow_x": null,
            "grid_auto_flow": null,
            "grid_area": null,
            "grid_template_columns": null,
            "flex": null,
            "_model_name": "LayoutModel",
            "justify_items": null,
            "grid_row": null,
            "max_height": null,
            "align_content": null,
            "visibility": null,
            "align_self": null,
            "height": null,
            "min_height": null,
            "padding": null,
            "grid_auto_rows": null,
            "grid_gap": null,
            "max_width": null,
            "order": null,
            "_view_module_version": "1.2.0",
            "grid_template_areas": null,
            "object_position": null,
            "object_fit": null,
            "grid_auto_columns": null,
            "margin": null,
            "display": null,
            "left": null
          }
        },
        "701f4fc6f0fa49329fec7254d989b8a0": {
          "model_module": "@jupyter-widgets/controls",
          "model_name": "HBoxModel",
          "state": {
            "_view_name": "HBoxView",
            "_dom_classes": [],
            "_model_name": "HBoxModel",
            "_view_module": "@jupyter-widgets/controls",
            "_model_module_version": "1.5.0",
            "_view_count": null,
            "_view_module_version": "1.5.0",
            "box_style": "",
            "layout": "IPY_MODEL_77f79e83c19e42d580dac9c09673ed3f",
            "_model_module": "@jupyter-widgets/controls",
            "children": [
              "IPY_MODEL_089c224914b5454f990c64e7525be22b",
              "IPY_MODEL_4b749d60b9dc4833a4cb65811963c66a"
            ]
          }
        },
        "77f79e83c19e42d580dac9c09673ed3f": {
          "model_module": "@jupyter-widgets/base",
          "model_name": "LayoutModel",
          "state": {
            "_view_name": "LayoutView",
            "grid_template_rows": null,
            "right": null,
            "justify_content": null,
            "_view_module": "@jupyter-widgets/base",
            "overflow": null,
            "_model_module_version": "1.2.0",
            "_view_count": null,
            "flex_flow": null,
            "width": null,
            "min_width": null,
            "border": null,
            "align_items": null,
            "bottom": null,
            "_model_module": "@jupyter-widgets/base",
            "top": null,
            "grid_column": null,
            "overflow_y": null,
            "overflow_x": null,
            "grid_auto_flow": null,
            "grid_area": null,
            "grid_template_columns": null,
            "flex": null,
            "_model_name": "LayoutModel",
            "justify_items": null,
            "grid_row": null,
            "max_height": null,
            "align_content": null,
            "visibility": null,
            "align_self": null,
            "height": null,
            "min_height": null,
            "padding": null,
            "grid_auto_rows": null,
            "grid_gap": null,
            "max_width": null,
            "order": null,
            "_view_module_version": "1.2.0",
            "grid_template_areas": null,
            "object_position": null,
            "object_fit": null,
            "grid_auto_columns": null,
            "margin": null,
            "display": null,
            "left": null
          }
        },
        "089c224914b5454f990c64e7525be22b": {
          "model_module": "@jupyter-widgets/controls",
          "model_name": "FloatProgressModel",
          "state": {
            "_view_name": "ProgressView",
            "style": "IPY_MODEL_5534a95a8768407e8e1cd1b2b45d62f7",
            "_dom_classes": [],
            "description": "100%",
            "_model_name": "FloatProgressModel",
            "bar_style": "success",
            "max": 136,
            "_view_module": "@jupyter-widgets/controls",
            "_model_module_version": "1.5.0",
            "value": 136,
            "_view_count": null,
            "_view_module_version": "1.5.0",
            "orientation": "horizontal",
            "min": 0,
            "description_tooltip": null,
            "_model_module": "@jupyter-widgets/controls",
            "layout": "IPY_MODEL_68599c3fda89495da57903fbca24b429"
          }
        },
        "4b749d60b9dc4833a4cb65811963c66a": {
          "model_module": "@jupyter-widgets/controls",
          "model_name": "HTMLModel",
          "state": {
            "_view_name": "HTMLView",
            "style": "IPY_MODEL_9273206020ac4142872281f11b4a0743",
            "_dom_classes": [],
            "description": "",
            "_model_name": "HTMLModel",
            "placeholder": "​",
            "_view_module": "@jupyter-widgets/controls",
            "_model_module_version": "1.5.0",
            "value": " 136/136 [38:09&lt;00:00, 16.84s/it]",
            "_view_count": null,
            "_view_module_version": "1.5.0",
            "description_tooltip": null,
            "_model_module": "@jupyter-widgets/controls",
            "layout": "IPY_MODEL_061101f2426841169969445abff742e3"
          }
        },
        "5534a95a8768407e8e1cd1b2b45d62f7": {
          "model_module": "@jupyter-widgets/controls",
          "model_name": "ProgressStyleModel",
          "state": {
            "_view_name": "StyleView",
            "_model_name": "ProgressStyleModel",
            "description_width": "initial",
            "_view_module": "@jupyter-widgets/base",
            "_model_module_version": "1.5.0",
            "_view_count": null,
            "_view_module_version": "1.2.0",
            "bar_color": null,
            "_model_module": "@jupyter-widgets/controls"
          }
        },
        "68599c3fda89495da57903fbca24b429": {
          "model_module": "@jupyter-widgets/base",
          "model_name": "LayoutModel",
          "state": {
            "_view_name": "LayoutView",
            "grid_template_rows": null,
            "right": null,
            "justify_content": null,
            "_view_module": "@jupyter-widgets/base",
            "overflow": null,
            "_model_module_version": "1.2.0",
            "_view_count": null,
            "flex_flow": null,
            "width": null,
            "min_width": null,
            "border": null,
            "align_items": null,
            "bottom": null,
            "_model_module": "@jupyter-widgets/base",
            "top": null,
            "grid_column": null,
            "overflow_y": null,
            "overflow_x": null,
            "grid_auto_flow": null,
            "grid_area": null,
            "grid_template_columns": null,
            "flex": null,
            "_model_name": "LayoutModel",
            "justify_items": null,
            "grid_row": null,
            "max_height": null,
            "align_content": null,
            "visibility": null,
            "align_self": null,
            "height": null,
            "min_height": null,
            "padding": null,
            "grid_auto_rows": null,
            "grid_gap": null,
            "max_width": null,
            "order": null,
            "_view_module_version": "1.2.0",
            "grid_template_areas": null,
            "object_position": null,
            "object_fit": null,
            "grid_auto_columns": null,
            "margin": null,
            "display": null,
            "left": null
          }
        },
        "9273206020ac4142872281f11b4a0743": {
          "model_module": "@jupyter-widgets/controls",
          "model_name": "DescriptionStyleModel",
          "state": {
            "_view_name": "StyleView",
            "_model_name": "DescriptionStyleModel",
            "description_width": "",
            "_view_module": "@jupyter-widgets/base",
            "_model_module_version": "1.5.0",
            "_view_count": null,
            "_view_module_version": "1.2.0",
            "_model_module": "@jupyter-widgets/controls"
          }
        },
        "061101f2426841169969445abff742e3": {
          "model_module": "@jupyter-widgets/base",
          "model_name": "LayoutModel",
          "state": {
            "_view_name": "LayoutView",
            "grid_template_rows": null,
            "right": null,
            "justify_content": null,
            "_view_module": "@jupyter-widgets/base",
            "overflow": null,
            "_model_module_version": "1.2.0",
            "_view_count": null,
            "flex_flow": null,
            "width": null,
            "min_width": null,
            "border": null,
            "align_items": null,
            "bottom": null,
            "_model_module": "@jupyter-widgets/base",
            "top": null,
            "grid_column": null,
            "overflow_y": null,
            "overflow_x": null,
            "grid_auto_flow": null,
            "grid_area": null,
            "grid_template_columns": null,
            "flex": null,
            "_model_name": "LayoutModel",
            "justify_items": null,
            "grid_row": null,
            "max_height": null,
            "align_content": null,
            "visibility": null,
            "align_self": null,
            "height": null,
            "min_height": null,
            "padding": null,
            "grid_auto_rows": null,
            "grid_gap": null,
            "max_width": null,
            "order": null,
            "_view_module_version": "1.2.0",
            "grid_template_areas": null,
            "object_position": null,
            "object_fit": null,
            "grid_auto_columns": null,
            "margin": null,
            "display": null,
            "left": null
          }
        },
        "05d5a5d251cd4df8af74d8d3dde3785e": {
          "model_module": "@jupyter-widgets/controls",
          "model_name": "HBoxModel",
          "state": {
            "_view_name": "HBoxView",
            "_dom_classes": [],
            "_model_name": "HBoxModel",
            "_view_module": "@jupyter-widgets/controls",
            "_model_module_version": "1.5.0",
            "_view_count": null,
            "_view_module_version": "1.5.0",
            "box_style": "",
            "layout": "IPY_MODEL_d23a25fe70f34af8a8b1de3e3b7b43f5",
            "_model_module": "@jupyter-widgets/controls",
            "children": [
              "IPY_MODEL_a7daabe2912d4db79f2b2ee9ca64038f",
              "IPY_MODEL_55be8dd2ac3649f8af224a5353ab7350"
            ]
          }
        },
        "d23a25fe70f34af8a8b1de3e3b7b43f5": {
          "model_module": "@jupyter-widgets/base",
          "model_name": "LayoutModel",
          "state": {
            "_view_name": "LayoutView",
            "grid_template_rows": null,
            "right": null,
            "justify_content": null,
            "_view_module": "@jupyter-widgets/base",
            "overflow": null,
            "_model_module_version": "1.2.0",
            "_view_count": null,
            "flex_flow": null,
            "width": null,
            "min_width": null,
            "border": null,
            "align_items": null,
            "bottom": null,
            "_model_module": "@jupyter-widgets/base",
            "top": null,
            "grid_column": null,
            "overflow_y": null,
            "overflow_x": null,
            "grid_auto_flow": null,
            "grid_area": null,
            "grid_template_columns": null,
            "flex": null,
            "_model_name": "LayoutModel",
            "justify_items": null,
            "grid_row": null,
            "max_height": null,
            "align_content": null,
            "visibility": null,
            "align_self": null,
            "height": null,
            "min_height": null,
            "padding": null,
            "grid_auto_rows": null,
            "grid_gap": null,
            "max_width": null,
            "order": null,
            "_view_module_version": "1.2.0",
            "grid_template_areas": null,
            "object_position": null,
            "object_fit": null,
            "grid_auto_columns": null,
            "margin": null,
            "display": null,
            "left": null
          }
        },
        "a7daabe2912d4db79f2b2ee9ca64038f": {
          "model_module": "@jupyter-widgets/controls",
          "model_name": "FloatProgressModel",
          "state": {
            "_view_name": "ProgressView",
            "style": "IPY_MODEL_248def968fea45ecaa331ac48cc96ab2",
            "_dom_classes": [],
            "description": "100%",
            "_model_name": "FloatProgressModel",
            "bar_style": "success",
            "max": 136,
            "_view_module": "@jupyter-widgets/controls",
            "_model_module_version": "1.5.0",
            "value": 136,
            "_view_count": null,
            "_view_module_version": "1.5.0",
            "orientation": "horizontal",
            "min": 0,
            "description_tooltip": null,
            "_model_module": "@jupyter-widgets/controls",
            "layout": "IPY_MODEL_e5867db0808d42c4bb0c84ce1c93edd0"
          }
        },
        "55be8dd2ac3649f8af224a5353ab7350": {
          "model_module": "@jupyter-widgets/controls",
          "model_name": "HTMLModel",
          "state": {
            "_view_name": "HTMLView",
            "style": "IPY_MODEL_4071e0ae932f498289b46ce017023e5d",
            "_dom_classes": [],
            "description": "",
            "_model_name": "HTMLModel",
            "placeholder": "​",
            "_view_module": "@jupyter-widgets/controls",
            "_model_module_version": "1.5.0",
            "value": " 136/136 [22:54&lt;00:00, 10.11s/it]",
            "_view_count": null,
            "_view_module_version": "1.5.0",
            "description_tooltip": null,
            "_model_module": "@jupyter-widgets/controls",
            "layout": "IPY_MODEL_54d49956831f45a0b0432c4bc93ff843"
          }
        },
        "248def968fea45ecaa331ac48cc96ab2": {
          "model_module": "@jupyter-widgets/controls",
          "model_name": "ProgressStyleModel",
          "state": {
            "_view_name": "StyleView",
            "_model_name": "ProgressStyleModel",
            "description_width": "initial",
            "_view_module": "@jupyter-widgets/base",
            "_model_module_version": "1.5.0",
            "_view_count": null,
            "_view_module_version": "1.2.0",
            "bar_color": null,
            "_model_module": "@jupyter-widgets/controls"
          }
        },
        "e5867db0808d42c4bb0c84ce1c93edd0": {
          "model_module": "@jupyter-widgets/base",
          "model_name": "LayoutModel",
          "state": {
            "_view_name": "LayoutView",
            "grid_template_rows": null,
            "right": null,
            "justify_content": null,
            "_view_module": "@jupyter-widgets/base",
            "overflow": null,
            "_model_module_version": "1.2.0",
            "_view_count": null,
            "flex_flow": null,
            "width": null,
            "min_width": null,
            "border": null,
            "align_items": null,
            "bottom": null,
            "_model_module": "@jupyter-widgets/base",
            "top": null,
            "grid_column": null,
            "overflow_y": null,
            "overflow_x": null,
            "grid_auto_flow": null,
            "grid_area": null,
            "grid_template_columns": null,
            "flex": null,
            "_model_name": "LayoutModel",
            "justify_items": null,
            "grid_row": null,
            "max_height": null,
            "align_content": null,
            "visibility": null,
            "align_self": null,
            "height": null,
            "min_height": null,
            "padding": null,
            "grid_auto_rows": null,
            "grid_gap": null,
            "max_width": null,
            "order": null,
            "_view_module_version": "1.2.0",
            "grid_template_areas": null,
            "object_position": null,
            "object_fit": null,
            "grid_auto_columns": null,
            "margin": null,
            "display": null,
            "left": null
          }
        },
        "4071e0ae932f498289b46ce017023e5d": {
          "model_module": "@jupyter-widgets/controls",
          "model_name": "DescriptionStyleModel",
          "state": {
            "_view_name": "StyleView",
            "_model_name": "DescriptionStyleModel",
            "description_width": "",
            "_view_module": "@jupyter-widgets/base",
            "_model_module_version": "1.5.0",
            "_view_count": null,
            "_view_module_version": "1.2.0",
            "_model_module": "@jupyter-widgets/controls"
          }
        },
        "54d49956831f45a0b0432c4bc93ff843": {
          "model_module": "@jupyter-widgets/base",
          "model_name": "LayoutModel",
          "state": {
            "_view_name": "LayoutView",
            "grid_template_rows": null,
            "right": null,
            "justify_content": null,
            "_view_module": "@jupyter-widgets/base",
            "overflow": null,
            "_model_module_version": "1.2.0",
            "_view_count": null,
            "flex_flow": null,
            "width": null,
            "min_width": null,
            "border": null,
            "align_items": null,
            "bottom": null,
            "_model_module": "@jupyter-widgets/base",
            "top": null,
            "grid_column": null,
            "overflow_y": null,
            "overflow_x": null,
            "grid_auto_flow": null,
            "grid_area": null,
            "grid_template_columns": null,
            "flex": null,
            "_model_name": "LayoutModel",
            "justify_items": null,
            "grid_row": null,
            "max_height": null,
            "align_content": null,
            "visibility": null,
            "align_self": null,
            "height": null,
            "min_height": null,
            "padding": null,
            "grid_auto_rows": null,
            "grid_gap": null,
            "max_width": null,
            "order": null,
            "_view_module_version": "1.2.0",
            "grid_template_areas": null,
            "object_position": null,
            "object_fit": null,
            "grid_auto_columns": null,
            "margin": null,
            "display": null,
            "left": null
          }
        },
        "f3b9994e1dfc4aeaa8fd758654326f61": {
          "model_module": "@jupyter-widgets/controls",
          "model_name": "HBoxModel",
          "state": {
            "_view_name": "HBoxView",
            "_dom_classes": [],
            "_model_name": "HBoxModel",
            "_view_module": "@jupyter-widgets/controls",
            "_model_module_version": "1.5.0",
            "_view_count": null,
            "_view_module_version": "1.5.0",
            "box_style": "",
            "layout": "IPY_MODEL_53731baf25b243398f940d90c91f81bd",
            "_model_module": "@jupyter-widgets/controls",
            "children": [
              "IPY_MODEL_62a5d0ffc2e74245b11005a2d0ead470",
              "IPY_MODEL_cc3b627ab3ba47fb91d1c0cf65e7e033"
            ]
          }
        },
        "53731baf25b243398f940d90c91f81bd": {
          "model_module": "@jupyter-widgets/base",
          "model_name": "LayoutModel",
          "state": {
            "_view_name": "LayoutView",
            "grid_template_rows": null,
            "right": null,
            "justify_content": null,
            "_view_module": "@jupyter-widgets/base",
            "overflow": null,
            "_model_module_version": "1.2.0",
            "_view_count": null,
            "flex_flow": null,
            "width": null,
            "min_width": null,
            "border": null,
            "align_items": null,
            "bottom": null,
            "_model_module": "@jupyter-widgets/base",
            "top": null,
            "grid_column": null,
            "overflow_y": null,
            "overflow_x": null,
            "grid_auto_flow": null,
            "grid_area": null,
            "grid_template_columns": null,
            "flex": null,
            "_model_name": "LayoutModel",
            "justify_items": null,
            "grid_row": null,
            "max_height": null,
            "align_content": null,
            "visibility": null,
            "align_self": null,
            "height": null,
            "min_height": null,
            "padding": null,
            "grid_auto_rows": null,
            "grid_gap": null,
            "max_width": null,
            "order": null,
            "_view_module_version": "1.2.0",
            "grid_template_areas": null,
            "object_position": null,
            "object_fit": null,
            "grid_auto_columns": null,
            "margin": null,
            "display": null,
            "left": null
          }
        },
        "62a5d0ffc2e74245b11005a2d0ead470": {
          "model_module": "@jupyter-widgets/controls",
          "model_name": "FloatProgressModel",
          "state": {
            "_view_name": "ProgressView",
            "style": "IPY_MODEL_7e586e44a5244c6e99694bf5b9076827",
            "_dom_classes": [],
            "description": "100%",
            "_model_name": "FloatProgressModel",
            "bar_style": "success",
            "max": 136,
            "_view_module": "@jupyter-widgets/controls",
            "_model_module_version": "1.5.0",
            "value": 136,
            "_view_count": null,
            "_view_module_version": "1.5.0",
            "orientation": "horizontal",
            "min": 0,
            "description_tooltip": null,
            "_model_module": "@jupyter-widgets/controls",
            "layout": "IPY_MODEL_b55d93d87bb9449480119668d92b06dd"
          }
        },
        "cc3b627ab3ba47fb91d1c0cf65e7e033": {
          "model_module": "@jupyter-widgets/controls",
          "model_name": "HTMLModel",
          "state": {
            "_view_name": "HTMLView",
            "style": "IPY_MODEL_dc97191e81d94170b40830a570bd7c75",
            "_dom_classes": [],
            "description": "",
            "_model_name": "HTMLModel",
            "placeholder": "​",
            "_view_module": "@jupyter-widgets/controls",
            "_model_module_version": "1.5.0",
            "value": " 136/136 [15:16&lt;00:00,  6.74s/it]",
            "_view_count": null,
            "_view_module_version": "1.5.0",
            "description_tooltip": null,
            "_model_module": "@jupyter-widgets/controls",
            "layout": "IPY_MODEL_8215c7336c7f40679013c362db063407"
          }
        },
        "7e586e44a5244c6e99694bf5b9076827": {
          "model_module": "@jupyter-widgets/controls",
          "model_name": "ProgressStyleModel",
          "state": {
            "_view_name": "StyleView",
            "_model_name": "ProgressStyleModel",
            "description_width": "initial",
            "_view_module": "@jupyter-widgets/base",
            "_model_module_version": "1.5.0",
            "_view_count": null,
            "_view_module_version": "1.2.0",
            "bar_color": null,
            "_model_module": "@jupyter-widgets/controls"
          }
        },
        "b55d93d87bb9449480119668d92b06dd": {
          "model_module": "@jupyter-widgets/base",
          "model_name": "LayoutModel",
          "state": {
            "_view_name": "LayoutView",
            "grid_template_rows": null,
            "right": null,
            "justify_content": null,
            "_view_module": "@jupyter-widgets/base",
            "overflow": null,
            "_model_module_version": "1.2.0",
            "_view_count": null,
            "flex_flow": null,
            "width": null,
            "min_width": null,
            "border": null,
            "align_items": null,
            "bottom": null,
            "_model_module": "@jupyter-widgets/base",
            "top": null,
            "grid_column": null,
            "overflow_y": null,
            "overflow_x": null,
            "grid_auto_flow": null,
            "grid_area": null,
            "grid_template_columns": null,
            "flex": null,
            "_model_name": "LayoutModel",
            "justify_items": null,
            "grid_row": null,
            "max_height": null,
            "align_content": null,
            "visibility": null,
            "align_self": null,
            "height": null,
            "min_height": null,
            "padding": null,
            "grid_auto_rows": null,
            "grid_gap": null,
            "max_width": null,
            "order": null,
            "_view_module_version": "1.2.0",
            "grid_template_areas": null,
            "object_position": null,
            "object_fit": null,
            "grid_auto_columns": null,
            "margin": null,
            "display": null,
            "left": null
          }
        },
        "dc97191e81d94170b40830a570bd7c75": {
          "model_module": "@jupyter-widgets/controls",
          "model_name": "DescriptionStyleModel",
          "state": {
            "_view_name": "StyleView",
            "_model_name": "DescriptionStyleModel",
            "description_width": "",
            "_view_module": "@jupyter-widgets/base",
            "_model_module_version": "1.5.0",
            "_view_count": null,
            "_view_module_version": "1.2.0",
            "_model_module": "@jupyter-widgets/controls"
          }
        },
        "8215c7336c7f40679013c362db063407": {
          "model_module": "@jupyter-widgets/base",
          "model_name": "LayoutModel",
          "state": {
            "_view_name": "LayoutView",
            "grid_template_rows": null,
            "right": null,
            "justify_content": null,
            "_view_module": "@jupyter-widgets/base",
            "overflow": null,
            "_model_module_version": "1.2.0",
            "_view_count": null,
            "flex_flow": null,
            "width": null,
            "min_width": null,
            "border": null,
            "align_items": null,
            "bottom": null,
            "_model_module": "@jupyter-widgets/base",
            "top": null,
            "grid_column": null,
            "overflow_y": null,
            "overflow_x": null,
            "grid_auto_flow": null,
            "grid_area": null,
            "grid_template_columns": null,
            "flex": null,
            "_model_name": "LayoutModel",
            "justify_items": null,
            "grid_row": null,
            "max_height": null,
            "align_content": null,
            "visibility": null,
            "align_self": null,
            "height": null,
            "min_height": null,
            "padding": null,
            "grid_auto_rows": null,
            "grid_gap": null,
            "max_width": null,
            "order": null,
            "_view_module_version": "1.2.0",
            "grid_template_areas": null,
            "object_position": null,
            "object_fit": null,
            "grid_auto_columns": null,
            "margin": null,
            "display": null,
            "left": null
          }
        },
        "fc31cb896be44ba5beb9e726d9fbf8f0": {
          "model_module": "@jupyter-widgets/controls",
          "model_name": "HBoxModel",
          "state": {
            "_view_name": "HBoxView",
            "_dom_classes": [],
            "_model_name": "HBoxModel",
            "_view_module": "@jupyter-widgets/controls",
            "_model_module_version": "1.5.0",
            "_view_count": null,
            "_view_module_version": "1.5.0",
            "box_style": "",
            "layout": "IPY_MODEL_53e21c0749d947f39739ba970771830a",
            "_model_module": "@jupyter-widgets/controls",
            "children": [
              "IPY_MODEL_03dd0de772f64fc297817db411dc2043",
              "IPY_MODEL_d4335a0579e04c5da05003b3e60be575"
            ]
          }
        },
        "53e21c0749d947f39739ba970771830a": {
          "model_module": "@jupyter-widgets/base",
          "model_name": "LayoutModel",
          "state": {
            "_view_name": "LayoutView",
            "grid_template_rows": null,
            "right": null,
            "justify_content": null,
            "_view_module": "@jupyter-widgets/base",
            "overflow": null,
            "_model_module_version": "1.2.0",
            "_view_count": null,
            "flex_flow": null,
            "width": null,
            "min_width": null,
            "border": null,
            "align_items": null,
            "bottom": null,
            "_model_module": "@jupyter-widgets/base",
            "top": null,
            "grid_column": null,
            "overflow_y": null,
            "overflow_x": null,
            "grid_auto_flow": null,
            "grid_area": null,
            "grid_template_columns": null,
            "flex": null,
            "_model_name": "LayoutModel",
            "justify_items": null,
            "grid_row": null,
            "max_height": null,
            "align_content": null,
            "visibility": null,
            "align_self": null,
            "height": null,
            "min_height": null,
            "padding": null,
            "grid_auto_rows": null,
            "grid_gap": null,
            "max_width": null,
            "order": null,
            "_view_module_version": "1.2.0",
            "grid_template_areas": null,
            "object_position": null,
            "object_fit": null,
            "grid_auto_columns": null,
            "margin": null,
            "display": null,
            "left": null
          }
        },
        "03dd0de772f64fc297817db411dc2043": {
          "model_module": "@jupyter-widgets/controls",
          "model_name": "FloatProgressModel",
          "state": {
            "_view_name": "ProgressView",
            "style": "IPY_MODEL_16d1b7f2a27c466896b59393d6aa74d3",
            "_dom_classes": [],
            "description": "100%",
            "_model_name": "FloatProgressModel",
            "bar_style": "success",
            "max": 136,
            "_view_module": "@jupyter-widgets/controls",
            "_model_module_version": "1.5.0",
            "value": 136,
            "_view_count": null,
            "_view_module_version": "1.5.0",
            "orientation": "horizontal",
            "min": 0,
            "description_tooltip": null,
            "_model_module": "@jupyter-widgets/controls",
            "layout": "IPY_MODEL_2e096e71f3a4454b82cc55bdbf07bf50"
          }
        },
        "d4335a0579e04c5da05003b3e60be575": {
          "model_module": "@jupyter-widgets/controls",
          "model_name": "HTMLModel",
          "state": {
            "_view_name": "HTMLView",
            "style": "IPY_MODEL_dc35a6f4a0a6485da510b609cb5e34eb",
            "_dom_classes": [],
            "description": "",
            "_model_name": "HTMLModel",
            "placeholder": "​",
            "_view_module": "@jupyter-widgets/controls",
            "_model_module_version": "1.5.0",
            "value": " 136/136 [07:38&lt;00:00,  3.37s/it]",
            "_view_count": null,
            "_view_module_version": "1.5.0",
            "description_tooltip": null,
            "_model_module": "@jupyter-widgets/controls",
            "layout": "IPY_MODEL_91bbf6fb586b4992accc320dc93f33e7"
          }
        },
        "16d1b7f2a27c466896b59393d6aa74d3": {
          "model_module": "@jupyter-widgets/controls",
          "model_name": "ProgressStyleModel",
          "state": {
            "_view_name": "StyleView",
            "_model_name": "ProgressStyleModel",
            "description_width": "initial",
            "_view_module": "@jupyter-widgets/base",
            "_model_module_version": "1.5.0",
            "_view_count": null,
            "_view_module_version": "1.2.0",
            "bar_color": null,
            "_model_module": "@jupyter-widgets/controls"
          }
        },
        "2e096e71f3a4454b82cc55bdbf07bf50": {
          "model_module": "@jupyter-widgets/base",
          "model_name": "LayoutModel",
          "state": {
            "_view_name": "LayoutView",
            "grid_template_rows": null,
            "right": null,
            "justify_content": null,
            "_view_module": "@jupyter-widgets/base",
            "overflow": null,
            "_model_module_version": "1.2.0",
            "_view_count": null,
            "flex_flow": null,
            "width": null,
            "min_width": null,
            "border": null,
            "align_items": null,
            "bottom": null,
            "_model_module": "@jupyter-widgets/base",
            "top": null,
            "grid_column": null,
            "overflow_y": null,
            "overflow_x": null,
            "grid_auto_flow": null,
            "grid_area": null,
            "grid_template_columns": null,
            "flex": null,
            "_model_name": "LayoutModel",
            "justify_items": null,
            "grid_row": null,
            "max_height": null,
            "align_content": null,
            "visibility": null,
            "align_self": null,
            "height": null,
            "min_height": null,
            "padding": null,
            "grid_auto_rows": null,
            "grid_gap": null,
            "max_width": null,
            "order": null,
            "_view_module_version": "1.2.0",
            "grid_template_areas": null,
            "object_position": null,
            "object_fit": null,
            "grid_auto_columns": null,
            "margin": null,
            "display": null,
            "left": null
          }
        },
        "dc35a6f4a0a6485da510b609cb5e34eb": {
          "model_module": "@jupyter-widgets/controls",
          "model_name": "DescriptionStyleModel",
          "state": {
            "_view_name": "StyleView",
            "_model_name": "DescriptionStyleModel",
            "description_width": "",
            "_view_module": "@jupyter-widgets/base",
            "_model_module_version": "1.5.0",
            "_view_count": null,
            "_view_module_version": "1.2.0",
            "_model_module": "@jupyter-widgets/controls"
          }
        },
        "91bbf6fb586b4992accc320dc93f33e7": {
          "model_module": "@jupyter-widgets/base",
          "model_name": "LayoutModel",
          "state": {
            "_view_name": "LayoutView",
            "grid_template_rows": null,
            "right": null,
            "justify_content": null,
            "_view_module": "@jupyter-widgets/base",
            "overflow": null,
            "_model_module_version": "1.2.0",
            "_view_count": null,
            "flex_flow": null,
            "width": null,
            "min_width": null,
            "border": null,
            "align_items": null,
            "bottom": null,
            "_model_module": "@jupyter-widgets/base",
            "top": null,
            "grid_column": null,
            "overflow_y": null,
            "overflow_x": null,
            "grid_auto_flow": null,
            "grid_area": null,
            "grid_template_columns": null,
            "flex": null,
            "_model_name": "LayoutModel",
            "justify_items": null,
            "grid_row": null,
            "max_height": null,
            "align_content": null,
            "visibility": null,
            "align_self": null,
            "height": null,
            "min_height": null,
            "padding": null,
            "grid_auto_rows": null,
            "grid_gap": null,
            "max_width": null,
            "order": null,
            "_view_module_version": "1.2.0",
            "grid_template_areas": null,
            "object_position": null,
            "object_fit": null,
            "grid_auto_columns": null,
            "margin": null,
            "display": null,
            "left": null
          }
        },
        "e84101ad41a04701a34870bfc3391ff4": {
          "model_module": "@jupyter-widgets/controls",
          "model_name": "HBoxModel",
          "state": {
            "_view_name": "HBoxView",
            "_dom_classes": [],
            "_model_name": "HBoxModel",
            "_view_module": "@jupyter-widgets/controls",
            "_model_module_version": "1.5.0",
            "_view_count": null,
            "_view_module_version": "1.5.0",
            "box_style": "",
            "layout": "IPY_MODEL_68509e40fb144375a33a970fe4f1cd64",
            "_model_module": "@jupyter-widgets/controls",
            "children": [
              "IPY_MODEL_88cad26da8c04b288df46bad868db204",
              "IPY_MODEL_528a1aaead9e4292a22915fe9eea3ce0"
            ]
          }
        },
        "68509e40fb144375a33a970fe4f1cd64": {
          "model_module": "@jupyter-widgets/base",
          "model_name": "LayoutModel",
          "state": {
            "_view_name": "LayoutView",
            "grid_template_rows": null,
            "right": null,
            "justify_content": null,
            "_view_module": "@jupyter-widgets/base",
            "overflow": null,
            "_model_module_version": "1.2.0",
            "_view_count": null,
            "flex_flow": null,
            "width": null,
            "min_width": null,
            "border": null,
            "align_items": null,
            "bottom": null,
            "_model_module": "@jupyter-widgets/base",
            "top": null,
            "grid_column": null,
            "overflow_y": null,
            "overflow_x": null,
            "grid_auto_flow": null,
            "grid_area": null,
            "grid_template_columns": null,
            "flex": null,
            "_model_name": "LayoutModel",
            "justify_items": null,
            "grid_row": null,
            "max_height": null,
            "align_content": null,
            "visibility": null,
            "align_self": null,
            "height": null,
            "min_height": null,
            "padding": null,
            "grid_auto_rows": null,
            "grid_gap": null,
            "max_width": null,
            "order": null,
            "_view_module_version": "1.2.0",
            "grid_template_areas": null,
            "object_position": null,
            "object_fit": null,
            "grid_auto_columns": null,
            "margin": null,
            "display": null,
            "left": null
          }
        },
        "88cad26da8c04b288df46bad868db204": {
          "model_module": "@jupyter-widgets/controls",
          "model_name": "FloatProgressModel",
          "state": {
            "_view_name": "ProgressView",
            "style": "IPY_MODEL_9c3db11857584f3b998698dccc3ab492",
            "_dom_classes": [],
            "description": "100%",
            "_model_name": "FloatProgressModel",
            "bar_style": "success",
            "max": 136,
            "_view_module": "@jupyter-widgets/controls",
            "_model_module_version": "1.5.0",
            "value": 136,
            "_view_count": null,
            "_view_module_version": "1.5.0",
            "orientation": "horizontal",
            "min": 0,
            "description_tooltip": null,
            "_model_module": "@jupyter-widgets/controls",
            "layout": "IPY_MODEL_e033285e1e0d4830b893cff57862dbc1"
          }
        },
        "528a1aaead9e4292a22915fe9eea3ce0": {
          "model_module": "@jupyter-widgets/controls",
          "model_name": "HTMLModel",
          "state": {
            "_view_name": "HTMLView",
            "style": "IPY_MODEL_dc00af12b2b94bf8aabe549da1e2a9d8",
            "_dom_classes": [],
            "description": "",
            "_model_name": "HTMLModel",
            "placeholder": "​",
            "_view_module": "@jupyter-widgets/controls",
            "_model_module_version": "1.5.0",
            "value": " 136/136 [07:40&lt;00:00,  3.39s/it]",
            "_view_count": null,
            "_view_module_version": "1.5.0",
            "description_tooltip": null,
            "_model_module": "@jupyter-widgets/controls",
            "layout": "IPY_MODEL_d23cc9a13d0846f2b81869a8ca3d6ed9"
          }
        },
        "9c3db11857584f3b998698dccc3ab492": {
          "model_module": "@jupyter-widgets/controls",
          "model_name": "ProgressStyleModel",
          "state": {
            "_view_name": "StyleView",
            "_model_name": "ProgressStyleModel",
            "description_width": "initial",
            "_view_module": "@jupyter-widgets/base",
            "_model_module_version": "1.5.0",
            "_view_count": null,
            "_view_module_version": "1.2.0",
            "bar_color": null,
            "_model_module": "@jupyter-widgets/controls"
          }
        },
        "e033285e1e0d4830b893cff57862dbc1": {
          "model_module": "@jupyter-widgets/base",
          "model_name": "LayoutModel",
          "state": {
            "_view_name": "LayoutView",
            "grid_template_rows": null,
            "right": null,
            "justify_content": null,
            "_view_module": "@jupyter-widgets/base",
            "overflow": null,
            "_model_module_version": "1.2.0",
            "_view_count": null,
            "flex_flow": null,
            "width": null,
            "min_width": null,
            "border": null,
            "align_items": null,
            "bottom": null,
            "_model_module": "@jupyter-widgets/base",
            "top": null,
            "grid_column": null,
            "overflow_y": null,
            "overflow_x": null,
            "grid_auto_flow": null,
            "grid_area": null,
            "grid_template_columns": null,
            "flex": null,
            "_model_name": "LayoutModel",
            "justify_items": null,
            "grid_row": null,
            "max_height": null,
            "align_content": null,
            "visibility": null,
            "align_self": null,
            "height": null,
            "min_height": null,
            "padding": null,
            "grid_auto_rows": null,
            "grid_gap": null,
            "max_width": null,
            "order": null,
            "_view_module_version": "1.2.0",
            "grid_template_areas": null,
            "object_position": null,
            "object_fit": null,
            "grid_auto_columns": null,
            "margin": null,
            "display": null,
            "left": null
          }
        },
        "dc00af12b2b94bf8aabe549da1e2a9d8": {
          "model_module": "@jupyter-widgets/controls",
          "model_name": "DescriptionStyleModel",
          "state": {
            "_view_name": "StyleView",
            "_model_name": "DescriptionStyleModel",
            "description_width": "",
            "_view_module": "@jupyter-widgets/base",
            "_model_module_version": "1.5.0",
            "_view_count": null,
            "_view_module_version": "1.2.0",
            "_model_module": "@jupyter-widgets/controls"
          }
        },
        "d23cc9a13d0846f2b81869a8ca3d6ed9": {
          "model_module": "@jupyter-widgets/base",
          "model_name": "LayoutModel",
          "state": {
            "_view_name": "LayoutView",
            "grid_template_rows": null,
            "right": null,
            "justify_content": null,
            "_view_module": "@jupyter-widgets/base",
            "overflow": null,
            "_model_module_version": "1.2.0",
            "_view_count": null,
            "flex_flow": null,
            "width": null,
            "min_width": null,
            "border": null,
            "align_items": null,
            "bottom": null,
            "_model_module": "@jupyter-widgets/base",
            "top": null,
            "grid_column": null,
            "overflow_y": null,
            "overflow_x": null,
            "grid_auto_flow": null,
            "grid_area": null,
            "grid_template_columns": null,
            "flex": null,
            "_model_name": "LayoutModel",
            "justify_items": null,
            "grid_row": null,
            "max_height": null,
            "align_content": null,
            "visibility": null,
            "align_self": null,
            "height": null,
            "min_height": null,
            "padding": null,
            "grid_auto_rows": null,
            "grid_gap": null,
            "max_width": null,
            "order": null,
            "_view_module_version": "1.2.0",
            "grid_template_areas": null,
            "object_position": null,
            "object_fit": null,
            "grid_auto_columns": null,
            "margin": null,
            "display": null,
            "left": null
          }
        },
        "3e4d5ec6613747198129fd3abdc06f92": {
          "model_module": "@jupyter-widgets/controls",
          "model_name": "HBoxModel",
          "state": {
            "_view_name": "HBoxView",
            "_dom_classes": [],
            "_model_name": "HBoxModel",
            "_view_module": "@jupyter-widgets/controls",
            "_model_module_version": "1.5.0",
            "_view_count": null,
            "_view_module_version": "1.5.0",
            "box_style": "",
            "layout": "IPY_MODEL_c4565258725b4bf686371d8228f2fcc2",
            "_model_module": "@jupyter-widgets/controls",
            "children": [
              "IPY_MODEL_e4818f8cea6447f6ace63f54bfee222a",
              "IPY_MODEL_2da127e43d784c14989d39b36e5195a9"
            ]
          }
        },
        "c4565258725b4bf686371d8228f2fcc2": {
          "model_module": "@jupyter-widgets/base",
          "model_name": "LayoutModel",
          "state": {
            "_view_name": "LayoutView",
            "grid_template_rows": null,
            "right": null,
            "justify_content": null,
            "_view_module": "@jupyter-widgets/base",
            "overflow": null,
            "_model_module_version": "1.2.0",
            "_view_count": null,
            "flex_flow": null,
            "width": null,
            "min_width": null,
            "border": null,
            "align_items": null,
            "bottom": null,
            "_model_module": "@jupyter-widgets/base",
            "top": null,
            "grid_column": null,
            "overflow_y": null,
            "overflow_x": null,
            "grid_auto_flow": null,
            "grid_area": null,
            "grid_template_columns": null,
            "flex": null,
            "_model_name": "LayoutModel",
            "justify_items": null,
            "grid_row": null,
            "max_height": null,
            "align_content": null,
            "visibility": null,
            "align_self": null,
            "height": null,
            "min_height": null,
            "padding": null,
            "grid_auto_rows": null,
            "grid_gap": null,
            "max_width": null,
            "order": null,
            "_view_module_version": "1.2.0",
            "grid_template_areas": null,
            "object_position": null,
            "object_fit": null,
            "grid_auto_columns": null,
            "margin": null,
            "display": null,
            "left": null
          }
        },
        "e4818f8cea6447f6ace63f54bfee222a": {
          "model_module": "@jupyter-widgets/controls",
          "model_name": "FloatProgressModel",
          "state": {
            "_view_name": "ProgressView",
            "style": "IPY_MODEL_6c69b2f1888041b3ac80d012d0683a61",
            "_dom_classes": [],
            "description": "100%",
            "_model_name": "FloatProgressModel",
            "bar_style": "success",
            "max": 136,
            "_view_module": "@jupyter-widgets/controls",
            "_model_module_version": "1.5.0",
            "value": 136,
            "_view_count": null,
            "_view_module_version": "1.5.0",
            "orientation": "horizontal",
            "min": 0,
            "description_tooltip": null,
            "_model_module": "@jupyter-widgets/controls",
            "layout": "IPY_MODEL_04bab8db41e14c1eb6d0ca928d978f49"
          }
        },
        "2da127e43d784c14989d39b36e5195a9": {
          "model_module": "@jupyter-widgets/controls",
          "model_name": "HTMLModel",
          "state": {
            "_view_name": "HTMLView",
            "style": "IPY_MODEL_5904592a18ef406095cfef746242d8f2",
            "_dom_classes": [],
            "description": "",
            "_model_name": "HTMLModel",
            "placeholder": "​",
            "_view_module": "@jupyter-widgets/controls",
            "_model_module_version": "1.5.0",
            "value": " 136/136 [32:24&lt;00:00, 14.30s/it]",
            "_view_count": null,
            "_view_module_version": "1.5.0",
            "description_tooltip": null,
            "_model_module": "@jupyter-widgets/controls",
            "layout": "IPY_MODEL_b3d563ba90e04e35aae377f0016ee577"
          }
        },
        "6c69b2f1888041b3ac80d012d0683a61": {
          "model_module": "@jupyter-widgets/controls",
          "model_name": "ProgressStyleModel",
          "state": {
            "_view_name": "StyleView",
            "_model_name": "ProgressStyleModel",
            "description_width": "initial",
            "_view_module": "@jupyter-widgets/base",
            "_model_module_version": "1.5.0",
            "_view_count": null,
            "_view_module_version": "1.2.0",
            "bar_color": null,
            "_model_module": "@jupyter-widgets/controls"
          }
        },
        "04bab8db41e14c1eb6d0ca928d978f49": {
          "model_module": "@jupyter-widgets/base",
          "model_name": "LayoutModel",
          "state": {
            "_view_name": "LayoutView",
            "grid_template_rows": null,
            "right": null,
            "justify_content": null,
            "_view_module": "@jupyter-widgets/base",
            "overflow": null,
            "_model_module_version": "1.2.0",
            "_view_count": null,
            "flex_flow": null,
            "width": null,
            "min_width": null,
            "border": null,
            "align_items": null,
            "bottom": null,
            "_model_module": "@jupyter-widgets/base",
            "top": null,
            "grid_column": null,
            "overflow_y": null,
            "overflow_x": null,
            "grid_auto_flow": null,
            "grid_area": null,
            "grid_template_columns": null,
            "flex": null,
            "_model_name": "LayoutModel",
            "justify_items": null,
            "grid_row": null,
            "max_height": null,
            "align_content": null,
            "visibility": null,
            "align_self": null,
            "height": null,
            "min_height": null,
            "padding": null,
            "grid_auto_rows": null,
            "grid_gap": null,
            "max_width": null,
            "order": null,
            "_view_module_version": "1.2.0",
            "grid_template_areas": null,
            "object_position": null,
            "object_fit": null,
            "grid_auto_columns": null,
            "margin": null,
            "display": null,
            "left": null
          }
        },
        "5904592a18ef406095cfef746242d8f2": {
          "model_module": "@jupyter-widgets/controls",
          "model_name": "DescriptionStyleModel",
          "state": {
            "_view_name": "StyleView",
            "_model_name": "DescriptionStyleModel",
            "description_width": "",
            "_view_module": "@jupyter-widgets/base",
            "_model_module_version": "1.5.0",
            "_view_count": null,
            "_view_module_version": "1.2.0",
            "_model_module": "@jupyter-widgets/controls"
          }
        },
        "b3d563ba90e04e35aae377f0016ee577": {
          "model_module": "@jupyter-widgets/base",
          "model_name": "LayoutModel",
          "state": {
            "_view_name": "LayoutView",
            "grid_template_rows": null,
            "right": null,
            "justify_content": null,
            "_view_module": "@jupyter-widgets/base",
            "overflow": null,
            "_model_module_version": "1.2.0",
            "_view_count": null,
            "flex_flow": null,
            "width": null,
            "min_width": null,
            "border": null,
            "align_items": null,
            "bottom": null,
            "_model_module": "@jupyter-widgets/base",
            "top": null,
            "grid_column": null,
            "overflow_y": null,
            "overflow_x": null,
            "grid_auto_flow": null,
            "grid_area": null,
            "grid_template_columns": null,
            "flex": null,
            "_model_name": "LayoutModel",
            "justify_items": null,
            "grid_row": null,
            "max_height": null,
            "align_content": null,
            "visibility": null,
            "align_self": null,
            "height": null,
            "min_height": null,
            "padding": null,
            "grid_auto_rows": null,
            "grid_gap": null,
            "max_width": null,
            "order": null,
            "_view_module_version": "1.2.0",
            "grid_template_areas": null,
            "object_position": null,
            "object_fit": null,
            "grid_auto_columns": null,
            "margin": null,
            "display": null,
            "left": null
          }
        }
      }
    }
  },
  "cells": [
    {
      "cell_type": "code",
      "metadata": {
        "id": "45KE_J3dMktm",
        "colab_type": "code",
        "colab": {}
      },
      "source": [
        "'''\n",
        "utils.py\n",
        "'''\n",
        "import heapq\n",
        "from copy import deepcopy\n",
        "import numpy\n",
        "from operator import itemgetter\n",
        "\n",
        "import torch\n",
        "from torch.utils.model_zoo import tqdm\n",
        "\n",
        "def hotflip_attack(averaged_grad, embedding_matrix, trigger_token_ids,\n",
        "                   increase_loss=False, num_candidates=1):\n",
        "    \"\"\"\n",
        "    Borrowed from @Eric-Wallace\n",
        "\n",
        "    This function takes in the model's average_grad over a batch of examples, the model's\n",
        "    token embedding matrix, and the current trigger token IDs. It returns the top token\n",
        "    candidates for each position.\n",
        "\n",
        "    If increase_loss=True, then the attack reverses the sign of the gradient and tries to increase\n",
        "    the loss (decrease the model's probability of the true class). For targeted attacks, you want\n",
        "    to decrease the loss of the target class (increase_loss=False).\n",
        "    \"\"\"\n",
        "    averaged_grad = averaged_grad.cpu()\n",
        "    embedding_matrix = embedding_matrix.cpu()\n",
        "    trigger_token_embeds = torch.nn.functional.embedding(torch.LongTensor(trigger_token_ids),\n",
        "                                                         embedding_matrix).detach().unsqueeze(0)\n",
        "    averaged_grad = averaged_grad.unsqueeze(0)\n",
        "\n",
        "    gradient_dot_embedding_matrix = torch.einsum(\"bij,kj->bik\",\n",
        "                                                 (averaged_grad, embedding_matrix))        \n",
        "    if not increase_loss:\n",
        "        gradient_dot_embedding_matrix *= -1    # lower versus increase the class probability.\n",
        "    if num_candidates > 1: # get top k options\n",
        "        _, best_k_ids = torch.topk(gradient_dot_embedding_matrix, num_candidates, dim=2)\n",
        "        return best_k_ids.detach().cpu().numpy()[0]\n",
        "    _, best_at_each_step = gradient_dot_embedding_matrix.max(2)\n",
        "    return best_at_each_step[0].detach().cpu().numpy()\n",
        "\n",
        "def get_best_candidates(model, batch, criterion,trigger_token_ids, cand_trigger_token_ids, device, beam_size=1):\n",
        "    \"\"\"\"\n",
        "    Borrowed from @Eric-Wallace\n",
        "\n",
        "    Given the list of candidate trigger token ids (of number of trigger words by number of candidates\n",
        "    per word), it finds the best new candidate trigger.\n",
        "    This performs beam search in a left to right fashion.\n",
        "    \"\"\"\n",
        "    # first round, no beams, just get the loss for each of the candidates in index 0.\n",
        "    # (indices 1-end are just the old trigger)\n",
        "    loss_per_candidate = get_loss_per_candidate(0, model, batch, criterion,trigger_token_ids,\n",
        "                                                cand_trigger_token_ids, device)\n",
        "    # maximize the loss\n",
        "    top_candidates = heapq.nlargest(beam_size, loss_per_candidate, key=itemgetter(1))\n",
        "\n",
        "    # top_candidates now contains beam_size trigger sequences, each with a different 0th token\n",
        "    for idx in range(1, len(trigger_token_ids)): # for all trigger tokens, skipping the 0th (we did it above)\n",
        "        loss_per_candidate = []\n",
        "        for cand, _ in top_candidates: # for all the beams, try all the candidates at idx\n",
        "            loss_per_candidate.extend(get_loss_per_candidate(idx, model, batch, criterion,cand,\n",
        "                                                             cand_trigger_token_ids, device))\n",
        "        top_candidates = heapq.nlargest(beam_size, loss_per_candidate, key=itemgetter(1))\n",
        "    return max(top_candidates, key=itemgetter(1))[0]\n",
        "\n",
        "def get_loss_per_candidate(index, model, batch, criterion, trigger_token_ids, cand_trigger_token_ids, device):\n",
        "    \"\"\"\n",
        "    Borrowed from @Eric-Wallace\n",
        "\n",
        "    For a particular index, the function tries all of the candidate tokens for that index.\n",
        "    The function returns a list containing the candidate triggers it tried, along with their loss.\n",
        "    \"\"\"\n",
        "    if isinstance(cand_trigger_token_ids[0], (numpy.int64, int)):\n",
        "        print(\"Only 1 candidate for index detected, not searching\")\n",
        "        return trigger_token_ids\n",
        "\n",
        "    loss_per_candidate = []\n",
        "    # loss for the trigger without trying the candidates\n",
        "    curr_loss = evaluate_batch_trigger(model, batch, criterion, trigger_token_ids, device)['loss'] \\\n",
        "                    .cpu().detach().numpy()\n",
        "\n",
        "    loss_per_candidate.append((deepcopy(trigger_token_ids), curr_loss))\n",
        "    for cand_id in range(len(cand_trigger_token_ids[0])):\n",
        "        trigger_token_ids_one_replaced = deepcopy(trigger_token_ids) # copy trigger\n",
        "        trigger_token_ids_one_replaced[index] = cand_trigger_token_ids[index][cand_id] # replace one token\n",
        "\n",
        "        loss = evaluate_batch_trigger(model, batch, criterion, trigger_token_ids_one_replaced, device)['loss'].cpu().detach().numpy()\n",
        "        \n",
        "        # if cand_id in senti_word_id:\n",
        "        #     loss = 0\n",
        "        # cand = c_text.vocab.itos[cand_id]\n",
        "        # for c in cand:\n",
        "        #     if not c.isalpha():\n",
        "        #         # print(cand)\n",
        "        #         loss = 0\n",
        "        loss_per_candidate.append((deepcopy(trigger_token_ids_one_replaced), loss))\n",
        "\n",
        "    return loss_per_candidate\n",
        "\n",
        "################################\n",
        "\n",
        "def accuracy(y_pred, y_orig):\n",
        "    y_pred = torch.round(torch.sigmoid(y_pred))\n",
        "    correct = (y_pred == y_orig).float()\n",
        "    accuracy = correct.sum() / len(correct)\n",
        "\n",
        "    return accuracy\n",
        "\n",
        "def get_accuracy(model, iterator, criterion,trigger_token_ids, device):\n",
        "    epoch_acc = 0\n",
        "\n",
        "    print(\"Finding accuracy...\")\n",
        "    pbar = tqdm(enumerate(iterator), total=len(iterator))\n",
        "    for _, batch in pbar:\n",
        "        model.eval()\n",
        "        res = evaluate_batch_trigger(model, batch, criterion, trigger_token_ids, device)\n",
        "\n",
        "        epoch_acc += res['acc']\n",
        "    return epoch_acc / len(iterator)\n",
        "\n",
        "def evaluate_batch_trigger(model, batch, criterion,trigger_token_ids, device):\n",
        "    # model.eval()\n",
        "    text = batch.text\n",
        "    num_trigger_tokens = len(trigger_token_ids)\n",
        "\n",
        "    # Append trigger tokens\n",
        "    with torch.no_grad():\n",
        "        trigger_sequence_tensor = torch.LongTensor(deepcopy(trigger_token_ids)) # or 2\n",
        "        trigger_sequence_tensor = trigger_sequence_tensor.repeat(batch.label.shape[0], 1) # batch_size is global\n",
        "        b_text = torch.cat((trigger_sequence_tensor, text.cpu()), dim=1)\n",
        "    \n",
        "        y_pred = model(b_text.cuda()).squeeze(1)\n",
        "        loss = criterion(y_pred, batch.label.to(device))\n",
        "        acc = accuracy(y_pred, batch.label.cuda())\n",
        "\n",
        "    return {'acc': acc, 'loss': loss}"
      ],
      "execution_count": 0,
      "outputs": []
    },
    {
      "cell_type": "code",
      "metadata": {
        "id": "nB_zY45S2pFc",
        "colab_type": "code",
        "colab": {}
      },
      "source": [
        "# network.py\n",
        "\n",
        "import torch\n",
        "import torch.nn as nn\n",
        "import torch.nn.functional as F\n",
        "\n",
        "class Classify_cnn(nn.Module):\n",
        "    def __init__(self,\n",
        "                vocab_size, embedding_dim, output_dim,\n",
        "                num_filters, filter_sizes,\n",
        "                dropout, pad_idx):\n",
        "        super().__init__()\n",
        "        \n",
        "        self.embedding = nn.Embedding(vocab_size, embedding_dim, padding_idx = pad_idx)\n",
        "\n",
        "        self.convLayers = nn.ModuleList([\n",
        "                            nn.Conv2d(1, num_filters, kernel_size = (filter_size, embedding_dim))\n",
        "                            for filter_size in filter_sizes\n",
        "        ])\n",
        "\n",
        "        self.linear = nn.Linear(len(filter_sizes) * num_filters, output_dim)\n",
        "        self.dropout = nn.Dropout(dropout)\n",
        "\n",
        "    def forward(self, text):\n",
        "        '''\n",
        "        Args:\n",
        "            text: Size - (batch_size, len(text))\n",
        "        '''\n",
        "        embedded = self.embedding(text)   # Size - (batch_size, len(text), embed_dim)\n",
        "        embedded = embedded.unsqueeze(1)     # Size - (batch_size, 1, len(text), embed_dim)\n",
        "\n",
        "        convolve = [    \n",
        "            F.relu(conv(embedded)).squeeze(3)    # Size - (batch_size, num_filters, len(text) - filter_size + 1)\n",
        "            for conv in self.convLayers    \n",
        "        ]\n",
        "        \n",
        "        pool = [\n",
        "            F.max_pool1d(conv, conv.shape[2]).squeeze(2) # Size - (batch_size, num_filters)\n",
        "            for conv in convolve\n",
        "        ]\n",
        "\n",
        "        cat = self.dropout(torch.cat(pool, dim=1))  # Size - (batch_size, num_filter * len(filter_sizes)\n",
        "        return self.linear(cat)"
      ],
      "execution_count": 0,
      "outputs": []
    },
    {
      "cell_type": "code",
      "metadata": {
        "id": "ZomslDUDDZgC",
        "colab_type": "code",
        "outputId": "84187eb4-e3bb-4358-aff1-d49fc8f2b37e",
        "colab": {
          "base_uri": "https://localhost:8080/",
          "height": 386,
          "referenced_widgets": [
            "b6c9df0494c1414c89562e47db277a7f",
            "a4d7436e7e1a43559d59727e48f304dc",
            "da61259dcca4451ca3f8223e58858ab0",
            "50efec63b5324ebcaf38dd9a3a9b124c",
            "7710039eb24349b89765e7a9f0e5adb6",
            "2c691ff38a844d0abb01c193e7778050",
            "358fb85ae9e04782892de3873a8a59dd",
            "4550e60f0ab3438fbbb47a9735225c84",
            "9e3a8ce3f90749fd905f03d795e94712",
            "2bdefc991f1a49a8871d9e6f2e16fa1e",
            "2deebf1ddc174d94a7a72a05ba770602",
            "ed72b72d720e47baa3b83cd71b92b723",
            "6d826a37197f4d319c7de883abcb5430",
            "1e028bfe1e9f4b8d959522861b1a317b",
            "b7e1d0392f52431ea06eeb39274e9d31",
            "908527ac3e79465fbe79fd7f4dd040a0",
            "97f878c4439f47878d52370628925143",
            "bbbfdf9d6b9943fb8d5f8ecb08ab1073",
            "8dfdf6ec546447d5a440802ff5f5f9e0",
            "1ce993f3a79c4648aea44b74230dbb15",
            "5fbf9d73f12d4f6682f1ecefd4868a9c",
            "bd336eabbb1b4f9d88de6061f0d00e36",
            "a3189814d202494fac028359e8a711bf",
            "a0fd3979b57b42c0a40bda6f7b7b4ef8",
            "cf8fdf988bf6425ba3cc212a4c95be10",
            "13e2e6f4cf79456295e4ff33d44fc831",
            "ad6b88489c324e598459a80269216d54",
            "e8684bb20a7b48b1a8ae6c9e2eec1f2f",
            "5c03b788148f43c98c0078ed499a653f",
            "c51a69442dde424a8e1842866133416f",
            "78cea80396a94b52aa1796be2bbeddcf",
            "0e5787a314fe472b9d53d78a0f481e54"
          ]
        }
      },
      "source": [
        "# train.py\n",
        "\n",
        "import torch\n",
        "import torch.nn as nn\n",
        "import torchtext as tt\n",
        "import torch.optim as optim\n",
        "\n",
        "from torch.utils.model_zoo import tqdm\n",
        "import copy\n",
        "import random\n",
        "import time\n",
        "\n",
        "# from utils import *\n",
        "# from network import RNN\n",
        "\n",
        "SEED = 1\n",
        "torch.manual_seed(SEED)\n",
        "torch.backends.cudnn.deterministic = True\n",
        "\n",
        "device = torch.device(\n",
        "            'cuda' if torch.cuda.is_available()\n",
        "            else 'cpu')\n",
        "\n",
        "\n",
        "def train_batch(model, batch, optimizer, criterion):\n",
        "    optimizer.zero_grad()\n",
        "    text = batch.text\n",
        "    \n",
        "    y_pred = model(text).squeeze(1)\n",
        "    loss = criterion(y_pred, batch.label)\n",
        "    acc = accuracy(y_pred, batch.label)\n",
        "\n",
        "    loss.backward()\n",
        "    optimizer.step()\n",
        "\n",
        "    return loss.item(), acc.item()\n",
        "\n",
        "def evaluate_batch(model, batch, criterion):\n",
        "    with torch.no_grad():\n",
        "        text = batch.text\n",
        "    \n",
        "        y_pred = model(text).squeeze(1)\n",
        "        loss = criterion(y_pred, batch.label)\n",
        "        acc = accuracy(y_pred, batch.label)\n",
        "\n",
        "    return loss.item(), acc.item()\n",
        "\n",
        "def time_min_sec(s, e):\n",
        "    diff = e - s\n",
        "    diff_min = int(diff / 60)\n",
        "    diff_sec = int(diff - (diff_min * 60))\n",
        "\n",
        "    return diff_min, diff_sec\n",
        "\n",
        "extracted_grads = []\n",
        "def extract_grad_hook(module, grad_in, grad_out):\n",
        "    extracted_grads.append(grad_out[0])\n",
        "\n",
        "def preprocess_text(sen):\n",
        "    # Removing html tags\n",
        "    TAG_RE = re.compile(r'<[^>]+>')\n",
        "    def remove_tags(text):\n",
        "        return TAG_RE.sub('', text)\n",
        "    sentence = remove_tags(sen)\n",
        "\n",
        "    # Remove punctuations and numbers\n",
        "    sentence = re.sub('[^a-zA-Z]', ' ', sentence)\n",
        "\n",
        "    # Single character removal\n",
        "    sentence = re.sub(r\"\\s+[a-zA-Z]\\s+\", ' ', sentence)\n",
        "\n",
        "    # Removing multiple spaces\n",
        "    sentence = re.sub(r'\\s+', ' ', sentence)\n",
        "\n",
        "    return sentence\n",
        "\n",
        "'''\n",
        "Main function\n",
        "'''\n",
        "\n",
        "import re\n",
        "import spacy\n",
        "NLP = spacy.load('en')\n",
        "def remove_tags(text):\n",
        "    TAG_RE = re.compile(r'<[^>]+>')\n",
        "    return TAG_RE.sub('', text)\n",
        "def tokenizer(sentence):\n",
        "    # Removing html tags\n",
        "    sentence = remove_tags(sentence)\n",
        "\n",
        "    # Remove punctuations and numbers\n",
        "    sentence = re.sub('[^a-zA-Z]', ' ', sentence)\n",
        "\n",
        "    # Single character removal\n",
        "    sentence = re.sub(r\"\\s+[a-zA-Z]\\s+\", ' ', sentence)\n",
        "\n",
        "    # Removing multiple spaces\n",
        "    sentence = re.sub(r'\\s+', ' ', sentence)\n",
        "\n",
        "    return [x.text for x in NLP.tokenizer(sentence) if x.text != \" \"]\n",
        "\n",
        "# Include length for packed padded sequence\n",
        "c_text = tt.data.Field(tokenize=tokenizer, batch_first=True,\n",
        "                       lower=True)\n",
        "c_label = tt.data.LabelField(dtype=torch.float)\n",
        "\n",
        "train_data, test_data = tt.datasets.IMDB.splits(c_text, c_label)\n",
        "train_data, val_data = train_data.split(random_state=random.seed(SEED))\n",
        "\n",
        "VOCAB_SIZE = 25000\n",
        "\n",
        "# Vocab is lookup table for every word\n",
        "c_text.build_vocab(train_data,\n",
        "                max_size = VOCAB_SIZE,\n",
        "                vectors = 'glove.6B.100d',\n",
        "                unk_init = torch.Tensor.normal_)\n",
        "c_label.build_vocab(train_data)\n",
        "\n",
        "\n",
        "\n",
        "batch_size = 64\n",
        "train_iterator, \\\n",
        "val_iterator, \\\n",
        "test_iterator = tt.data.BucketIterator.splits(\n",
        "                    (train_data, val_data, test_data),\n",
        "                    batch_size = batch_size,\n",
        "                    device = device)\n",
        "\n",
        "# Initialize model\n",
        "input_dim = len(c_text.vocab)\n",
        "embedding_dim = 100 # Should be same as dim of pre trained embeddings\n",
        "output_dim = 1\n",
        "num_filters = 100\n",
        "filter_sizes = [3, 4, 5]\n",
        "dropout_rate = 0.5\n",
        "pad_idx = c_text.vocab.stoi[c_text.pad_token]\n",
        "\n",
        "model = Classify_cnn(input_dim, embedding_dim, output_dim,\n",
        "                     num_filters, filter_sizes, dropout_rate, pad_idx)\n",
        "\n",
        "# initialize embeddings\n",
        "pretrained_embeddings = c_text.vocab.vectors\n",
        "model.embedding.weight.data.copy_(pretrained_embeddings)\n",
        "unk_idx = c_text.vocab.stoi[c_text.unk_token]\n",
        "model.embedding.weight.data[unk_idx] = torch.zeros(embedding_dim)\n",
        "model.embedding.weight.data[pad_idx] = torch.zeros(embedding_dim)\n",
        "\n",
        "print(\"Number of trainable parameters: \", sum(p.numel() for p in model.parameters() if p.requires_grad))\n",
        "print(model)\n",
        "\n",
        "optimizer = optim.Adam(model.parameters())\n",
        "criterion = nn.BCEWithLogitsLoss()\n",
        "model.to(device)\n",
        "criterion.to(device)\n",
        "\n",
        "# Train/Validate loop\n",
        "EPOCHS = 4\n",
        "for epoch in range(EPOCHS):\n",
        "    # Train\n",
        "    loss, acc = 0, 0\n",
        "    model.train()\n",
        "    pbar = tqdm(total=len(train_iterator) + len(val_iterator))\n",
        "    for batch in train_iterator:\n",
        "        batch_loss, batch_acc= train_batch(model, batch, optimizer, criterion)\n",
        "        loss += batch_loss\n",
        "        acc += batch_acc\n",
        "        pbar.update(1)\n",
        "    \n",
        "    # Validate\n",
        "    model.eval()\n",
        "    val_loss, val_acc = 0, 0\n",
        "    for batch in val_iterator:\n",
        "        batch_loss, batch_acc= evaluate_batch(model, batch, criterion)\n",
        "        val_loss += batch_loss\n",
        "        val_acc += batch_acc\n",
        "        pbar.update(1)\n",
        "\n",
        "    loss, acc = loss/len(train_iterator), acc/len(train_iterator)\n",
        "    val_loss, val_acc = val_loss/len(val_iterator), val_acc/len(val_iterator)\n",
        "\n",
        "    pbar.set_postfix_str(\"e: {}/{} => (T/V) Loss: {:.3f} | {:.3f}, Acc: {:.3f} | {:.3f}\\n\". format(\n",
        "        epoch, EPOCHS, loss, val_loss, acc*100, val_acc*100))\n",
        "\n",
        "torch.save(model, 'model.pb')"
      ],
      "execution_count": 3,
      "outputs": [
        {
          "output_type": "stream",
          "text": [
            "Number of trainable parameters:  2620801\n",
            "Classify_cnn(\n",
            "  (embedding): Embedding(25002, 100, padding_idx=1)\n",
            "  (convLayers): ModuleList(\n",
            "    (0): Conv2d(1, 100, kernel_size=(3, 100), stride=(1, 1))\n",
            "    (1): Conv2d(1, 100, kernel_size=(4, 100), stride=(1, 1))\n",
            "    (2): Conv2d(1, 100, kernel_size=(5, 100), stride=(1, 1))\n",
            "  )\n",
            "  (linear): Linear(in_features=300, out_features=1, bias=True)\n",
            "  (dropout): Dropout(p=0.5, inplace=False)\n",
            ")\n"
          ],
          "name": "stdout"
        },
        {
          "output_type": "display_data",
          "data": {
            "application/vnd.jupyter.widget-view+json": {
              "model_id": "b6c9df0494c1414c89562e47db277a7f",
              "version_minor": 0,
              "version_major": 2
            },
            "text/plain": [
              "HBox(children=(FloatProgress(value=0.0, max=392.0), HTML(value='')))"
            ]
          },
          "metadata": {
            "tags": []
          }
        },
        {
          "output_type": "display_data",
          "data": {
            "application/vnd.jupyter.widget-view+json": {
              "model_id": "9e3a8ce3f90749fd905f03d795e94712",
              "version_minor": 0,
              "version_major": 2
            },
            "text/plain": [
              "HBox(children=(FloatProgress(value=0.0, max=392.0), HTML(value='')))"
            ]
          },
          "metadata": {
            "tags": []
          }
        },
        {
          "output_type": "display_data",
          "data": {
            "application/vnd.jupyter.widget-view+json": {
              "model_id": "97f878c4439f47878d52370628925143",
              "version_minor": 0,
              "version_major": 2
            },
            "text/plain": [
              "HBox(children=(FloatProgress(value=0.0, max=392.0), HTML(value='')))"
            ]
          },
          "metadata": {
            "tags": []
          }
        },
        {
          "output_type": "display_data",
          "data": {
            "application/vnd.jupyter.widget-view+json": {
              "model_id": "cf8fdf988bf6425ba3cc212a4c95be10",
              "version_minor": 0,
              "version_major": 2
            },
            "text/plain": [
              "HBox(children=(FloatProgress(value=0.0, max=392.0), HTML(value='')))"
            ]
          },
          "metadata": {
            "tags": []
          }
        },
        {
          "output_type": "stream",
          "text": [
            "/usr/local/lib/python3.6/dist-packages/torch/serialization.py:402: UserWarning: Couldn't retrieve source code for container of type Classify_cnn. It won't be checked for correctness upon loading.\n",
            "  \"type \" + obj.__name__ + \". It won't be checked \"\n"
          ],
          "name": "stderr"
        }
      ]
    },
    {
      "cell_type": "code",
      "metadata": {
        "id": "45vh9e7ZGIXa",
        "colab_type": "code",
        "outputId": "0826063c-5e94-4f08-daaf-90ef4bfba0e7",
        "colab": {
          "base_uri": "https://localhost:8080/",
          "height": 309
        }
      },
      "source": [
        "# Test loop\n",
        "from sklearn.metrics import confusion_matrix, ConfusionMatrixDisplay\n",
        "import matplotlib.pyplot as plt\n",
        "\n",
        "pred = []\n",
        "orig = []\n",
        "with torch.no_grad():\n",
        "    for batch in test_iterator:\n",
        "        text = batch.text\n",
        "        y_pred = model(text).squeeze(1)\n",
        "        y_pred = torch.round(torch.sigmoid(y_pred))\n",
        "\n",
        "        pred.append(y_pred.cpu())\n",
        "        orig.append(batch.label.cpu())\n",
        "        \n",
        "    pred = torch.cat(pred, dim=0)\n",
        "    orig = torch.cat(orig, dim=0)\n",
        "def plot_confusion_matrix(pred_labels, labels):\n",
        "    \n",
        "    fig = plt.figure(figsize = (5,5));\n",
        "    ax = fig.add_subplot(1, 1, 1);\n",
        "    cm = confusion_matrix(labels, pred_labels);\n",
        "    cm = ConfusionMatrixDisplay(cm, range(2));\n",
        "    cm.plot(values_format = 'd', cmap = 'Blues', ax = ax)\n",
        "plot_confusion_matrix(pred, orig)"
      ],
      "execution_count": 4,
      "outputs": [
        {
          "output_type": "display_data",
          "data": {
            "image/png": "[encoded data removed]",
            "text/plain": [
              "<Figure size 360x360 with 2 Axes>"
            ]
          },
          "metadata": {
            "tags": [],
            "needs_background": "light"
          }
        }
      ]
    },
    {
      "cell_type": "markdown",
      "metadata": {
        "id": "QfFwev79OdOZ",
        "colab_type": "text"
      },
      "source": [
        "# Triggers"
      ]
    },
    {
      "cell_type": "code",
      "metadata": {
        "id": "L6uCPuaZNpIl",
        "colab_type": "code",
        "outputId": "5a82124e-b94f-4a5b-b4b9-ade580e15e43",
        "colab": {
          "base_uri": "https://localhost:8080/",
          "height": 617,
          "referenced_widgets": [
            "701f4fc6f0fa49329fec7254d989b8a0",
            "77f79e83c19e42d580dac9c09673ed3f",
            "089c224914b5454f990c64e7525be22b",
            "4b749d60b9dc4833a4cb65811963c66a",
            "5534a95a8768407e8e1cd1b2b45d62f7",
            "68599c3fda89495da57903fbca24b429",
            "9273206020ac4142872281f11b4a0743",
            "061101f2426841169969445abff742e3",
            "05d5a5d251cd4df8af74d8d3dde3785e",
            "d23a25fe70f34af8a8b1de3e3b7b43f5",
            "a7daabe2912d4db79f2b2ee9ca64038f",
            "55be8dd2ac3649f8af224a5353ab7350",
            "248def968fea45ecaa331ac48cc96ab2",
            "e5867db0808d42c4bb0c84ce1c93edd0",
            "4071e0ae932f498289b46ce017023e5d",
            "54d49956831f45a0b0432c4bc93ff843",
            "f3b9994e1dfc4aeaa8fd758654326f61",
            "53731baf25b243398f940d90c91f81bd",
            "62a5d0ffc2e74245b11005a2d0ead470",
            "cc3b627ab3ba47fb91d1c0cf65e7e033",
            "7e586e44a5244c6e99694bf5b9076827",
            "b55d93d87bb9449480119668d92b06dd",
            "dc97191e81d94170b40830a570bd7c75",
            "8215c7336c7f40679013c362db063407",
            "fc31cb896be44ba5beb9e726d9fbf8f0",
            "53e21c0749d947f39739ba970771830a",
            "03dd0de772f64fc297817db411dc2043",
            "d4335a0579e04c5da05003b3e60be575",
            "16d1b7f2a27c466896b59393d6aa74d3",
            "2e096e71f3a4454b82cc55bdbf07bf50",
            "dc35a6f4a0a6485da510b609cb5e34eb",
            "91bbf6fb586b4992accc320dc93f33e7",
            "e84101ad41a04701a34870bfc3391ff4",
            "68509e40fb144375a33a970fe4f1cd64",
            "88cad26da8c04b288df46bad868db204",
            "528a1aaead9e4292a22915fe9eea3ce0",
            "9c3db11857584f3b998698dccc3ab492",
            "e033285e1e0d4830b893cff57862dbc1",
            "dc00af12b2b94bf8aabe549da1e2a9d8",
            "d23cc9a13d0846f2b81869a8ca3d6ed9",
            "3e4d5ec6613747198129fd3abdc06f92",
            "c4565258725b4bf686371d8228f2fcc2",
            "e4818f8cea6447f6ace63f54bfee222a",
            "2da127e43d784c14989d39b36e5195a9",
            "6c69b2f1888041b3ac80d012d0683a61",
            "04bab8db41e14c1eb6d0ca928d978f49",
            "5904592a18ef406095cfef746242d8f2",
            "b3d563ba90e04e35aae377f0016ee577"
          ]
        }
      },
      "source": [
        "# Train 2\n",
        "\n",
        "'''\n",
        "Triggers\n",
        "'''\n",
        "# Attach hooks for gradients\n",
        "global extracted_grads\n",
        "extracted_grads = []\n",
        "for module in model.modules():\n",
        "    if isinstance(module, nn.Embedding):\n",
        "        module.register_backward_hook(extract_grad_hook)\n",
        "\n",
        "''' Targeted triggers '''\n",
        "print('TARGETED TRIGGERS')\n",
        "dataset_label_filter = \"pos\"\n",
        "targeted_dev_data = []\n",
        "for instance in train_data:\n",
        "    if instance.label == dataset_label_filter:\n",
        "        targeted_dev_data.append(instance)\n",
        "\n",
        "target_data = tt.data.Dataset(targeted_dev_data, fields=[('text', c_text), ('label', c_label)])\n",
        "target_iter = tt.data.Iterator(target_data, batch_size=batch_size, shuffle = True,\n",
        "                                sort_key=lambda x: x.text[1])\n",
        "\n",
        "# ''' General Triggers '''\n",
        "# print(\"GENERAL TRIGGERS\")\n",
        "# target_iter = test_iterator\n",
        "\n",
        "# senti_words = []\n",
        "# f = open(\"positive-words.txt\", \"r\", encoding = \"ISO-8859-1\")\n",
        "# senti_words += [line.rstrip(\"\\n\") for line in f.readlines() if line!='\\n' and line[0] != ';']\n",
        "# f = open(\"negative-words.txt\", \"r\", encoding = \"ISO-8859-1\")\n",
        "# senti_words += [line.rstrip(\"\\n\") for line in f.readlines() if line!='\\n' and line[0] != ';']\n",
        "\n",
        "# senti_word_id = [c_text.vocab.stoi[word] for word in senti_words]\n",
        "\n",
        "\n",
        "# Trigger tokens\n",
        "num_trigger_tokens = 3\n",
        "trigger_token_ids = [c_text.vocab.stoi[\"the\"]] * num_trigger_tokens\n",
        "\n",
        "TRIGGER_EPOCHS = 5\n",
        "for epoch in range(TRIGGER_EPOCHS):\n",
        "    # Get Accuracy\n",
        "    print_string = \"\"\n",
        "    for idx in trigger_token_ids:\n",
        "        print_string = print_string + c_text.vocab.itos[idx] + ', '\n",
        "    print(\"Current Triggers: \" + print_string + \" : \" + str(get_accuracy(model, target_iter, criterion,trigger_token_ids, device).item()))\n",
        "\n",
        "    # Get Average grad\n",
        "    ###\n",
        "    i = 0\n",
        "    for batch in target_iter:\n",
        "        text = batch.text\n",
        "\n",
        "        optimizer.zero_grad()\n",
        "        # Reset extracted_grads as in next step we get element at index 0\n",
        "\n",
        "        # RNN needs to be in train() to calculate gradient\n",
        "        # Hence, disable dropouts manually\n",
        "        model.train()\n",
        "        for name, module in model.named_modules():\n",
        "            if isinstance(module, nn.Dropout):\n",
        "                module.p = 0\n",
        "    \n",
        "            elif isinstance(module, nn.LSTM):\n",
        "                module.dropout = 0\n",
        "    \n",
        "            elif isinstance(module, nn.GRU):\n",
        "                module.dropout = 0\n",
        "\n",
        "        # Append trigger tokens\n",
        "        trigger_sequence_tensor = torch.LongTensor(copy.deepcopy(trigger_token_ids)) \n",
        "        trigger_sequence_tensor = trigger_sequence_tensor.repeat(batch.label.shape[0], 1) # batch_size is global\n",
        "        b_text = torch.cat((trigger_sequence_tensor, text.cpu()), dim=1)\n",
        "        \n",
        "\n",
        "        y_pred = model(b_text.to(device)).squeeze(1)\n",
        "        loss = criterion(y_pred, batch.label.to(device))\n",
        "\n",
        "        extracted_grads = []\n",
        "        loss.backward()\n",
        "    \n",
        "        data_grad = extracted_grads[0]\n",
        "        averaged_grad = torch.sum(data_grad, dim=0)\n",
        "        # Get gradient of trigger tokens only\n",
        "        averaged_grad = averaged_grad[0:len(trigger_token_ids)]\n",
        "\n",
        "        # print(averaged_grad.sum())\n",
        "\n",
        "        st = time.time()\n",
        "        cand_trigger_token_ids = hotflip_attack(averaged_grad,\n",
        "                                                        model.embedding.weight,\n",
        "                                                        trigger_token_ids,\n",
        "                                                        num_candidates=40,\n",
        "                                                        increase_loss=True)\n",
        "        trigger_token_ids = get_best_candidates(model,\n",
        "                                                    batch,\n",
        "                                                    criterion,\n",
        "                                                    trigger_token_ids,\n",
        "                                                    cand_trigger_token_ids,\n",
        "                                                    device)\n",
        "        et = time.time()\n",
        "\n",
        "        # if i == 5:\n",
        "        #     break\n",
        "        # else:\n",
        "        #     i += 1\n",
        "    print(\"Time spent: \", time_min_sec(st, et))\n",
        "\n",
        "print_string = \"\"\n",
        "for idx in trigger_token_ids:\n",
        "    print_string = print_string + c_text.vocab.itos[idx] + ', '\n",
        "print(\"Current Triggers: \" + print_string + \" : \" + str(get_accuracy(model, target_iter, criterion, trigger_token_ids, device).item()))"
      ],
      "execution_count": 5,
      "outputs": [
        {
          "output_type": "stream",
          "text": [
            "TARGETED TRIGGERS\n",
            "Finding accuracy...\n"
          ],
          "name": "stdout"
        },
        {
          "output_type": "display_data",
          "data": {
            "application/vnd.jupyter.widget-view+json": {
              "model_id": "701f4fc6f0fa49329fec7254d989b8a0",
              "version_minor": 0,
              "version_major": 2
            },
            "text/plain": [
              "HBox(children=(FloatProgress(value=0.0, max=136.0), HTML(value='')))"
            ]
          },
          "metadata": {
            "tags": []
          }
        },
        {
          "output_type": "stream",
          "text": [
            "\n",
            "Current Triggers: the, the, the,  : 0.9801240563392639\n",
            "Time spent:  (0, 1)\n",
            "Finding accuracy...\n"
          ],
          "name": "stdout"
        },
        {
          "output_type": "display_data",
          "data": {
            "application/vnd.jupyter.widget-view+json": {
              "model_id": "05d5a5d251cd4df8af74d8d3dde3785e",
              "version_minor": 0,
              "version_major": 2
            },
            "text/plain": [
              "HBox(children=(FloatProgress(value=0.0, max=136.0), HTML(value='')))"
            ]
          },
          "metadata": {
            "tags": []
          }
        },
        {
          "output_type": "stream",
          "text": [
            "\n",
            "Current Triggers: unisol, unisol, rosenlski,  : 0.0\n",
            "Time spent:  (0, 2)\n",
            "Finding accuracy...\n"
          ],
          "name": "stdout"
        },
        {
          "output_type": "display_data",
          "data": {
            "application/vnd.jupyter.widget-view+json": {
              "model_id": "f3b9994e1dfc4aeaa8fd758654326f61",
              "version_minor": 0,
              "version_major": 2
            },
            "text/plain": [
              "HBox(children=(FloatProgress(value=0.0, max=136.0), HTML(value='')))"
            ]
          },
          "metadata": {
            "tags": []
          }
        },
        {
          "output_type": "stream",
          "text": [
            "\n",
            "Current Triggers: unisol, unisol, rosenlski,  : 0.0\n",
            "Time spent:  (0, 1)\n",
            "Finding accuracy...\n"
          ],
          "name": "stdout"
        },
        {
          "output_type": "display_data",
          "data": {
            "application/vnd.jupyter.widget-view+json": {
              "model_id": "fc31cb896be44ba5beb9e726d9fbf8f0",
              "version_minor": 0,
              "version_major": 2
            },
            "text/plain": [
              "HBox(children=(FloatProgress(value=0.0, max=136.0), HTML(value='')))"
            ]
          },
          "metadata": {
            "tags": []
          }
        },
        {
          "output_type": "stream",
          "text": [
            "\n",
            "Current Triggers: unisol, unisol, rosenlski,  : 0.0\n",
            "Time spent:  (0, 1)\n",
            "Finding accuracy...\n"
          ],
          "name": "stdout"
        },
        {
          "output_type": "display_data",
          "data": {
            "application/vnd.jupyter.widget-view+json": {
              "model_id": "e84101ad41a04701a34870bfc3391ff4",
              "version_minor": 0,
              "version_major": 2
            },
            "text/plain": [
              "HBox(children=(FloatProgress(value=0.0, max=136.0), HTML(value='')))"
            ]
          },
          "metadata": {
            "tags": []
          }
        },
        {
          "output_type": "stream",
          "text": [
            "\n",
            "Current Triggers: unisol, unisol, rosenlski,  : 0.0\n",
            "Time spent:  (0, 1)\n",
            "Finding accuracy...\n"
          ],
          "name": "stdout"
        },
        {
          "output_type": "display_data",
          "data": {
            "application/vnd.jupyter.widget-view+json": {
              "model_id": "3e4d5ec6613747198129fd3abdc06f92",
              "version_minor": 0,
              "version_major": 2
            },
            "text/plain": [
              "HBox(children=(FloatProgress(value=0.0, max=136.0), HTML(value='')))"
            ]
          },
          "metadata": {
            "tags": []
          }
        },
        {
          "output_type": "stream",
          "text": [
            "\n",
            "Current Triggers: unisol, unisol, rosenlski,  : 0.0\n"
          ],
          "name": "stdout"
        }
      ]
    },
    {
      "cell_type": "markdown",
      "metadata": {
        "id": "DKN0-CAYgrT0",
        "colab_type": "text"
      },
      "source": [
        "# Test User input"
      ]
    },
    {
      "cell_type": "code",
      "metadata": {
        "id": "PheeZ1yrRAmx",
        "colab_type": "code",
        "colab": {}
      },
      "source": [
        "import spacy\n",
        "nlp = spacy.load('en')\n",
        "\n",
        "def predict_senti(model, sentence):\n",
        "    model.eval()\n",
        "\n",
        "    tokenized = [token.text for token in nlp.tokenizer(sentence.lower())]\n",
        "    indexed = [c_text.vocab.stoi[t] for t in tokenized]\n",
        "\n",
        "    tensor = torch.LongTensor(indexed).to(device)\n",
        "    tensor = tensor.unsqueeze(0)\n",
        "\n",
        "    y_pred = torch.sigmoid(model(tensor))\n",
        "\n",
        "    return torch.round(y_pred).item()\n",
        "\n",
        "def predict_triggered_senti(model, sentence, trigger_tokens):\n",
        "    model.eval()\n",
        "\n",
        "    tokenized = trigger_tokens + [token.text for token in nlp.tokenizer(sentence.lower())]\n",
        "    indexed = [c_text.vocab.stoi[t] for t in tokenized]\n",
        "\n",
        "    tensor = torch.LongTensor(indexed).to(device)\n",
        "    tensor = tensor.unsqueeze(0)\n",
        "\n",
        "    y_pred = torch.sigmoid(model(tensor))\n",
        "    return torch.round(y_pred).item()\n",
        "\n",
        "from IPython.core.display import display, HTML\n",
        "def html_render(x_orig, x_adv, trig_len):\n",
        "    x_orig_words = x_orig.split(' ')\n",
        "    x_adv_words = x_adv.split(' ')\n",
        "    orig_html = []\n",
        "    adv_html = []\n",
        "    # For now, we assume both original and adversarial text have equal lengths.\n",
        "    for i in range(len(x_orig_words)):\n",
        "        orig_html.append(x_orig_words[i])\n",
        "\n",
        "    for i in range(len(x_adv_words)):\n",
        "        if i < trig_len:\n",
        "            adv_html.append(format(\"<b style='color:red'>%s</b>\" %x_adv_words[i]))\n",
        "        else:\n",
        "            adv_html.append(x_adv_words[i])\n",
        "    \n",
        "    orig_html = ' '.join(orig_html)\n",
        "    adv_html = ' '.join(adv_html)\n",
        "    return orig_html, adv_html"
      ],
      "execution_count": 0,
      "outputs": []
    },
    {
      "cell_type": "code",
      "metadata": {
        "id": "F73S87svg8fs",
        "colab_type": "code",
        "outputId": "2b61f2de-59a9-415d-9ae6-ef75900d9112",
        "colab": {
          "base_uri": "https://localhost:8080/",
          "height": 731
        }
      },
      "source": [
        "sentences = [\n",
        "    'This movies is alright',\n",
        "    'Pathetic hero. Anyways, the movie is good',\n",
        "    'Wasted my money on this film',\n",
        "    'The movie is not good, its amazing',\n",
        "    'The movie is not good',\n",
        "    'The movie is bad',\n",
        "    'Read the book, forget the movie!',\n",
        "    \"This is a good film. This is very funny. Yet after this film there were no good Ernest films!\",\n",
        "]\n",
        "\n",
        "sentences = [\n",
        "    \"This is a good film. This is very funny. Yet after this film there were no good Ernest films!\",\n",
        "    \"Visually imaginative, thematically instructive and thoroughly delightful, it takes us on a roller-coaster ride\",\n",
        "    \"As surreal as a dream and as detailed as a photograph, as visually dexterous as it is at times imaginatively overwhelming\",\n",
        "    'Wasted my money on this film',\n",
        "    'Read the book, forget the movie!',\n",
        "    'The movie is not good, its amazing',\n",
        "    'What a terrible film!',\n",
        "]\n",
        "\n",
        "trigger_tokens = ['unisol', 'unisol', 'rosenlski']\n",
        "\n",
        "for sentence in sentences:\n",
        "    orig, adv = html_render(sentence, \" \".join(trigger_tokens) + \" \" + sentence, len(trigger_tokens))\n",
        "\n",
        "    print(\"----------- Original Sentence ----------\")\n",
        "    display(HTML(orig))\n",
        "\n",
        "    print(\"----------- Adversarial Sentence ----------\")\n",
        "    display(HTML(adv))\n",
        "    print(\"positive\" if predict_senti(model, sentence) > 0 else \"negative\", end=\" -> \")\n",
        "    print(\"positive\" if predict_triggered_senti(model, sentence, trigger_tokens) > 0 else \"negative\")\n",
        "\n",
        "    print(\"=\"*10)"
      ],
      "execution_count": 27,
      "outputs": [
        {
          "output_type": "stream",
          "text": [
            "----------- Original Sentence ----------\n"
          ],
          "name": "stdout"
        },
        {
          "output_type": "display_data",
          "data": {
            "text/html": [
              "This is a good film. This is very funny. Yet after this film there were no good Ernest films!"
            ],
            "text/plain": [
              "<IPython.core.display.HTML object>"
            ]
          },
          "metadata": {
            "tags": []
          }
        },
        {
          "output_type": "stream",
          "text": [
            "----------- Adversarial Sentence ----------\n"
          ],
          "name": "stdout"
        },
        {
          "output_type": "display_data",
          "data": {
            "text/html": [
              "<b style='color:red'>unisol</b> <b style='color:red'>unisol</b> <b style='color:red'>rosenlski</b> This is a good film. This is very funny. Yet after this film there were no good Ernest films!"
            ],
            "text/plain": [
              "<IPython.core.display.HTML object>"
            ]
          },
          "metadata": {
            "tags": []
          }
        },
        {
          "output_type": "stream",
          "text": [
            "positive -> negative\n",
            "==========\n",
            "----------- Original Sentence ----------\n"
          ],
          "name": "stdout"
        },
        {
          "output_type": "display_data",
          "data": {
            "text/html": [
              "Visually imaginative, thematically instructive and thoroughly delightful, it takes us on a roller-coaster ride"
            ],
            "text/plain": [
              "<IPython.core.display.HTML object>"
            ]
          },
          "metadata": {
            "tags": []
          }
        },
        {
          "output_type": "stream",
          "text": [
            "----------- Adversarial Sentence ----------\n"
          ],
          "name": "stdout"
        },
        {
          "output_type": "display_data",
          "data": {
            "text/html": [
              "<b style='color:red'>unisol</b> <b style='color:red'>unisol</b> <b style='color:red'>rosenlski</b> Visually imaginative, thematically instructive and thoroughly delightful, it takes us on a roller-coaster ride"
            ],
            "text/plain": [
              "<IPython.core.display.HTML object>"
            ]
          },
          "metadata": {
            "tags": []
          }
        },
        {
          "output_type": "stream",
          "text": [
            "positive -> negative\n",
            "==========\n",
            "----------- Original Sentence ----------\n"
          ],
          "name": "stdout"
        },
        {
          "output_type": "display_data",
          "data": {
            "text/html": [
              "As surreal as a dream and as detailed as a photograph, as visually dexterous as it is at times imaginatively overwhelming"
            ],
            "text/plain": [
              "<IPython.core.display.HTML object>"
            ]
          },
          "metadata": {
            "tags": []
          }
        },
        {
          "output_type": "stream",
          "text": [
            "----------- Adversarial Sentence ----------\n"
          ],
          "name": "stdout"
        },
        {
          "output_type": "display_data",
          "data": {
            "text/html": [
              "<b style='color:red'>unisol</b> <b style='color:red'>unisol</b> <b style='color:red'>rosenlski</b> As surreal as a dream and as detailed as a photograph, as visually dexterous as it is at times imaginatively overwhelming"
            ],
            "text/plain": [
              "<IPython.core.display.HTML object>"
            ]
          },
          "metadata": {
            "tags": []
          }
        },
        {
          "output_type": "stream",
          "text": [
            "positive -> negative\n",
            "==========\n",
            "----------- Original Sentence ----------\n"
          ],
          "name": "stdout"
        },
        {
          "output_type": "display_data",
          "data": {
            "text/html": [
              "Wasted my money on this film"
            ],
            "text/plain": [
              "<IPython.core.display.HTML object>"
            ]
          },
          "metadata": {
            "tags": []
          }
        },
        {
          "output_type": "stream",
          "text": [
            "----------- Adversarial Sentence ----------\n"
          ],
          "name": "stdout"
        },
        {
          "output_type": "display_data",
          "data": {
            "text/html": [
              "<b style='color:red'>unisol</b> <b style='color:red'>unisol</b> <b style='color:red'>rosenlski</b> Wasted my money on this film"
            ],
            "text/plain": [
              "<IPython.core.display.HTML object>"
            ]
          },
          "metadata": {
            "tags": []
          }
        },
        {
          "output_type": "stream",
          "text": [
            "negative -> negative\n",
            "==========\n",
            "----------- Original Sentence ----------\n"
          ],
          "name": "stdout"
        },
        {
          "output_type": "display_data",
          "data": {
            "text/html": [
              "Read the book, forget the movie!"
            ],
            "text/plain": [
              "<IPython.core.display.HTML object>"
            ]
          },
          "metadata": {
            "tags": []
          }
        },
        {
          "output_type": "stream",
          "text": [
            "----------- Adversarial Sentence ----------\n"
          ],
          "name": "stdout"
        },
        {
          "output_type": "display_data",
          "data": {
            "text/html": [
              "<b style='color:red'>unisol</b> <b style='color:red'>unisol</b> <b style='color:red'>rosenlski</b> Read the book, forget the movie!"
            ],
            "text/plain": [
              "<IPython.core.display.HTML object>"
            ]
          },
          "metadata": {
            "tags": []
          }
        },
        {
          "output_type": "stream",
          "text": [
            "positive -> negative\n",
            "==========\n",
            "----------- Original Sentence ----------\n"
          ],
          "name": "stdout"
        },
        {
          "output_type": "display_data",
          "data": {
            "text/html": [
              "The movie is not good, its amazing"
            ],
            "text/plain": [
              "<IPython.core.display.HTML object>"
            ]
          },
          "metadata": {
            "tags": []
          }
        },
        {
          "output_type": "stream",
          "text": [
            "----------- Adversarial Sentence ----------\n"
          ],
          "name": "stdout"
        },
        {
          "output_type": "display_data",
          "data": {
            "text/html": [
              "<b style='color:red'>unisol</b> <b style='color:red'>unisol</b> <b style='color:red'>rosenlski</b> The movie is not good, its amazing"
            ],
            "text/plain": [
              "<IPython.core.display.HTML object>"
            ]
          },
          "metadata": {
            "tags": []
          }
        },
        {
          "output_type": "stream",
          "text": [
            "positive -> negative\n",
            "==========\n",
            "----------- Original Sentence ----------\n"
          ],
          "name": "stdout"
        },
        {
          "output_type": "display_data",
          "data": {
            "text/html": [
              "What a terrible film!"
            ],
            "text/plain": [
              "<IPython.core.display.HTML object>"
            ]
          },
          "metadata": {
            "tags": []
          }
        },
        {
          "output_type": "stream",
          "text": [
            "----------- Adversarial Sentence ----------\n"
          ],
          "name": "stdout"
        },
        {
          "output_type": "display_data",
          "data": {
            "text/html": [
              "<b style='color:red'>unisol</b> <b style='color:red'>unisol</b> <b style='color:red'>rosenlski</b> What a terrible film!"
            ],
            "text/plain": [
              "<IPython.core.display.HTML object>"
            ]
          },
          "metadata": {
            "tags": []
          }
        },
        {
          "output_type": "stream",
          "text": [
            "negative -> negative\n",
            "==========\n"
          ],
          "name": "stdout"
        }
      ]
    },
    {
      "cell_type": "markdown",
      "metadata": {
        "id": "XolYjaxjwDfT",
        "colab_type": "text"
      },
      "source": [
        "## Test Accuracy after triggers"
      ]
    },
    {
      "cell_type": "code",
      "metadata": {
        "id": "BmHWiq58g9Og",
        "colab_type": "code",
        "outputId": "ebaf46a7-c763-49e7-c93b-dcce0596d1f4",
        "colab": {
          "base_uri": "https://localhost:8080/",
          "height": 309
        }
      },
      "source": [
        "from sklearn.metrics import confusion_matrix, ConfusionMatrixDisplay\n",
        "import matplotlib.pyplot as plt\n",
        "\n",
        "pred = []\n",
        "orig = []\n",
        "with torch.no_grad():\n",
        "    for batch in test_iterator:\n",
        "        text = batch.text\n",
        "        trigger_sequence_tensor = torch.LongTensor(copy.deepcopy(trigger_token_ids)) \n",
        "        trigger_sequence_tensor = trigger_sequence_tensor.repeat(batch.label.shape[0], 1) # batch_size is global\n",
        "        b_text = torch.cat((trigger_sequence_tensor, text.cpu()), dim=1)\n",
        "        \n",
        "\n",
        "        y_pred = model(b_text.to(device)).squeeze(1)\n",
        "        y_pred = torch.round(torch.sigmoid(y_pred))\n",
        "\n",
        "        pred.append(y_pred.cpu())\n",
        "        orig.append(batch.label.cpu())\n",
        "        \n",
        "    pred = torch.cat(pred, dim=0)\n",
        "    orig = torch.cat(orig, dim=0)\n",
        "def plot_confusion_matrix(pred_labels, labels):\n",
        "    \n",
        "    fig = plt.figure(figsize = (5,5));\n",
        "    ax = fig.add_subplot(1, 1, 1);\n",
        "    cm = confusion_matrix(labels, pred_labels);\n",
        "    cm = ConfusionMatrixDisplay(cm, range(2));\n",
        "    cm.plot(values_format = 'd', cmap = 'Blues', ax = ax)\n",
        "plot_confusion_matrix(pred, orig)"
      ],
      "execution_count": 8,
      "outputs": [
        {
          "output_type": "display_data",
          "data": {
            "image/png": "[encoded data removed]",
            "text/plain": [
              "<Figure size 360x360 with 2 Axes>"
            ]
          },
          "metadata": {
            "tags": [],
            "needs_background": "light"
          }
        }
      ]
    },
    {
      "cell_type": "code",
      "metadata": {
        "id": "wJhGxkwC130K",
        "colab_type": "code",
        "colab": {}
      },
      "source": [
        ""
      ],
      "execution_count": 0,
      "outputs": []
    }
  ]
}